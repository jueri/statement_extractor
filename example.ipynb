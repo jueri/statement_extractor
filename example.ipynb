{
 "cells": [
  {
   "cell_type": "markdown",
   "metadata": {},
   "source": [
    "# Statement Extractor\n",
    "\n",
    "This Notebook guides you through the *Statement Extractor* module."
   ]
  },
  {
   "cell_type": "code",
   "execution_count": 1,
   "metadata": {},
   "outputs": [],
   "source": [
    "import pandas as pd\n",
    "import os\n",
    "\n",
    "from src.utils import pdf_parser\n",
    "from src import segmenter, detect_claims, highlight_pdf\n",
    "from config import SAMPLE_PDF_PATH, MODEL_NAME, MODEL_WEIGHTS_PATH, SPACY_DATA_PATH\n",
    "os.environ[\"TF_CPP_MIN_LOG_LEVEL\"] = \"3\"\n",
    "pd.options.mode.chained_assignment = None  # default='warn'"
   ]
  },
  {
   "cell_type": "markdown",
   "metadata": {},
   "source": [
    "## 0. Load data"
   ]
  },
  {
   "cell_type": "code",
   "execution_count": 2,
   "metadata": {},
   "outputs": [],
   "source": [
    "text = pdf_parser.pdf_to_text(SAMPLE_PDF_PATH)  # load all text from pdf"
   ]
  },
  {
   "cell_type": "code",
   "execution_count": 3,
   "metadata": {},
   "outputs": [],
   "source": [
    "parse = pdf_parser.parse_text(text)  # parse pdf with specific document parser"
   ]
  },
  {
   "cell_type": "markdown",
   "metadata": {},
   "source": [
    "## 1. Create segments"
   ]
  },
  {
   "cell_type": "code",
   "execution_count": 4,
   "metadata": {},
   "outputs": [],
   "source": [
    "title = parse[\"title\"]\n",
    "date = parse[\"date\"]\n",
    "passages = parse[\"passages\"]  # this document has natural passages"
   ]
  },
  {
   "cell_type": "code",
   "execution_count": 5,
   "metadata": {},
   "outputs": [],
   "source": [
    "doc = []  # create empty doc"
   ]
  },
  {
   "cell_type": "code",
   "execution_count": 6,
   "metadata": {},
   "outputs": [],
   "source": [
    "passage_id = 0\n",
    "make_segments = True\n",
    "for passage in passages:\n",
    "    if make_segments:\n",
    "        segments = segmenter.split_segments(passage.get(\"text\"), segment_len=2)\n",
    "    else:\n",
    "        sentences = segmenter.split_sentences(passage.get(\"text\"))\n",
    "        segments = [{\"sentence\": sentence} for sentence in sentences]\n",
    "    \n",
    "    for segment in segments:\n",
    "        segment[\"passage_id\"] = passage_id\n",
    "        doc.append(segment)\n",
    "    \n",
    "    passage_id += 1"
   ]
  },
  {
   "cell_type": "markdown",
   "metadata": {},
   "source": [
    "### 1.1 Load to table"
   ]
  },
  {
   "cell_type": "code",
   "execution_count": 7,
   "metadata": {},
   "outputs": [],
   "source": [
    "doc_table = pd.DataFrame(doc)"
   ]
  },
  {
   "cell_type": "code",
   "execution_count": 8,
   "metadata": {},
   "outputs": [
    {
     "data": {
      "text/html": [
       "<div>\n",
       "<style scoped>\n",
       "    .dataframe tbody tr th:only-of-type {\n",
       "        vertical-align: middle;\n",
       "    }\n",
       "\n",
       "    .dataframe tbody tr th {\n",
       "        vertical-align: top;\n",
       "    }\n",
       "\n",
       "    .dataframe thead th {\n",
       "        text-align: right;\n",
       "    }\n",
       "</style>\n",
       "<table border=\"1\" class=\"dataframe\">\n",
       "  <thead>\n",
       "    <tr style=\"text-align: right;\">\n",
       "      <th></th>\n",
       "      <th>segment_id</th>\n",
       "      <th>sentence</th>\n",
       "      <th>passage_id</th>\n",
       "    </tr>\n",
       "  </thead>\n",
       "  <tbody>\n",
       "    <tr>\n",
       "      <th>0</th>\n",
       "      <td>0</td>\n",
       "      <td>Guten Mittag liebe Journalistinnen und Journal...</td>\n",
       "      <td>0</td>\n",
       "    </tr>\n",
       "    <tr>\n",
       "      <th>1</th>\n",
       "      <td>0</td>\n",
       "      <td>Herzlich willkommen hier zu unserem virtuellen...</td>\n",
       "      <td>0</td>\n",
       "    </tr>\n",
       "    <tr>\n",
       "      <th>2</th>\n",
       "      <td>1</td>\n",
       "      <td>Mein Name ist Bastian Zimmermann, und ich bin ...</td>\n",
       "      <td>0</td>\n",
       "    </tr>\n",
       "    <tr>\n",
       "      <th>3</th>\n",
       "      <td>2</td>\n",
       "      <td>Ich freue mich, heute auch unsere drei Experte...</td>\n",
       "      <td>0</td>\n",
       "    </tr>\n",
       "    <tr>\n",
       "      <th>4</th>\n",
       "      <td>3</td>\n",
       "      <td>Man hört immer wieder, wie wichtig Quantentech...</td>\n",
       "      <td>0</td>\n",
       "    </tr>\n",
       "  </tbody>\n",
       "</table>\n",
       "</div>"
      ],
      "text/plain": [
       "   segment_id                                           sentence  passage_id\n",
       "0           0  Guten Mittag liebe Journalistinnen und Journal...           0\n",
       "1           0  Herzlich willkommen hier zu unserem virtuellen...           0\n",
       "2           1  Mein Name ist Bastian Zimmermann, und ich bin ...           0\n",
       "3           2  Ich freue mich, heute auch unsere drei Experte...           0\n",
       "4           3  Man hört immer wieder, wie wichtig Quantentech...           0"
      ]
     },
     "execution_count": 8,
     "metadata": {},
     "output_type": "execute_result"
    }
   ],
   "source": [
    "doc_table.head()"
   ]
  },
  {
   "cell_type": "markdown",
   "metadata": {},
   "source": [
    "### 1.2 Add Metadata"
   ]
  },
  {
   "cell_type": "code",
   "execution_count": 9,
   "metadata": {},
   "outputs": [],
   "source": [
    "doc_table[\"title\"] = title\n",
    "doc_table[\"date\"] = date"
   ]
  },
  {
   "cell_type": "code",
   "execution_count": 10,
   "metadata": {},
   "outputs": [],
   "source": [
    "doc_table[\"speaker\"] = None\n",
    "doc_table[\"timestamp\"] = None\n",
    "\n",
    "for idx, passage in enumerate(passages):\n",
    "    speaker = passage.get(\"speaker\")\n",
    "    timestamp = passage.get(\"timestamp\")\n",
    "    \n",
    "    doc_table['speaker'].loc[doc_table['passage_id'] == idx] = speaker\n",
    "    doc_table['timestamp'].loc[doc_table['passage_id'] == idx] = timestamp\n"
   ]
  },
  {
   "cell_type": "code",
   "execution_count": 11,
   "metadata": {},
   "outputs": [
    {
     "data": {
      "text/html": [
       "<div>\n",
       "<style scoped>\n",
       "    .dataframe tbody tr th:only-of-type {\n",
       "        vertical-align: middle;\n",
       "    }\n",
       "\n",
       "    .dataframe tbody tr th {\n",
       "        vertical-align: top;\n",
       "    }\n",
       "\n",
       "    .dataframe thead th {\n",
       "        text-align: right;\n",
       "    }\n",
       "</style>\n",
       "<table border=\"1\" class=\"dataframe\">\n",
       "  <thead>\n",
       "    <tr style=\"text-align: right;\">\n",
       "      <th></th>\n",
       "      <th>segment_id</th>\n",
       "      <th>sentence</th>\n",
       "      <th>passage_id</th>\n",
       "      <th>title</th>\n",
       "      <th>date</th>\n",
       "      <th>speaker</th>\n",
       "      <th>timestamp</th>\n",
       "    </tr>\n",
       "  </thead>\n",
       "  <tbody>\n",
       "    <tr>\n",
       "      <th>0</th>\n",
       "      <td>0</td>\n",
       "      <td>Guten Mittag liebe Journalistinnen und Journal...</td>\n",
       "      <td>0</td>\n",
       "      <td>„Steht der Quantenrechner vor der Tür? Forschu...</td>\n",
       "      <td>12.04.2021</td>\n",
       "      <td>Moderator</td>\n",
       "      <td>[00:00:00]</td>\n",
       "    </tr>\n",
       "    <tr>\n",
       "      <th>1</th>\n",
       "      <td>0</td>\n",
       "      <td>Herzlich willkommen hier zu unserem virtuellen...</td>\n",
       "      <td>0</td>\n",
       "      <td>„Steht der Quantenrechner vor der Tür? Forschu...</td>\n",
       "      <td>12.04.2021</td>\n",
       "      <td>Moderator</td>\n",
       "      <td>[00:00:00]</td>\n",
       "    </tr>\n",
       "    <tr>\n",
       "      <th>2</th>\n",
       "      <td>1</td>\n",
       "      <td>Mein Name ist Bastian Zimmermann, und ich bin ...</td>\n",
       "      <td>0</td>\n",
       "      <td>„Steht der Quantenrechner vor der Tür? Forschu...</td>\n",
       "      <td>12.04.2021</td>\n",
       "      <td>Moderator</td>\n",
       "      <td>[00:00:00]</td>\n",
       "    </tr>\n",
       "    <tr>\n",
       "      <th>3</th>\n",
       "      <td>2</td>\n",
       "      <td>Ich freue mich, heute auch unsere drei Experte...</td>\n",
       "      <td>0</td>\n",
       "      <td>„Steht der Quantenrechner vor der Tür? Forschu...</td>\n",
       "      <td>12.04.2021</td>\n",
       "      <td>Moderator</td>\n",
       "      <td>[00:00:00]</td>\n",
       "    </tr>\n",
       "    <tr>\n",
       "      <th>4</th>\n",
       "      <td>3</td>\n",
       "      <td>Man hört immer wieder, wie wichtig Quantentech...</td>\n",
       "      <td>0</td>\n",
       "      <td>„Steht der Quantenrechner vor der Tür? Forschu...</td>\n",
       "      <td>12.04.2021</td>\n",
       "      <td>Moderator</td>\n",
       "      <td>[00:00:00]</td>\n",
       "    </tr>\n",
       "  </tbody>\n",
       "</table>\n",
       "</div>"
      ],
      "text/plain": [
       "   segment_id                                           sentence  passage_id  \\\n",
       "0           0  Guten Mittag liebe Journalistinnen und Journal...           0   \n",
       "1           0  Herzlich willkommen hier zu unserem virtuellen...           0   \n",
       "2           1  Mein Name ist Bastian Zimmermann, und ich bin ...           0   \n",
       "3           2  Ich freue mich, heute auch unsere drei Experte...           0   \n",
       "4           3  Man hört immer wieder, wie wichtig Quantentech...           0   \n",
       "\n",
       "                                               title        date    speaker  \\\n",
       "0  „Steht der Quantenrechner vor der Tür? Forschu...  12.04.2021  Moderator   \n",
       "1  „Steht der Quantenrechner vor der Tür? Forschu...  12.04.2021  Moderator   \n",
       "2  „Steht der Quantenrechner vor der Tür? Forschu...  12.04.2021  Moderator   \n",
       "3  „Steht der Quantenrechner vor der Tür? Forschu...  12.04.2021  Moderator   \n",
       "4  „Steht der Quantenrechner vor der Tür? Forschu...  12.04.2021  Moderator   \n",
       "\n",
       "    timestamp  \n",
       "0  [00:00:00]  \n",
       "1  [00:00:00]  \n",
       "2  [00:00:00]  \n",
       "3  [00:00:00]  \n",
       "4  [00:00:00]  "
      ]
     },
     "execution_count": 11,
     "metadata": {},
     "output_type": "execute_result"
    }
   ],
   "source": [
    "doc_table.head()"
   ]
  },
  {
   "cell_type": "markdown",
   "metadata": {},
   "source": [
    "## 2. Detect main concept\n",
    "Topic Sentence similarity by sentence embedding (dot product of word embeddings)"
   ]
  },
  {
   "cell_type": "code",
   "execution_count": 12,
   "metadata": {},
   "outputs": [],
   "source": [
    "from src.main_concept import sentence_title_similarity, wikified_article_score, wikify\n",
    "from config import TAGME_TOKEN, DANDELION_TOKEN"
   ]
  },
  {
   "cell_type": "code",
   "execution_count": 13,
   "metadata": {},
   "outputs": [],
   "source": [
    "similarities = sentence_title_similarity(text, title, doc_table[\"sentence\"].to_list())"
   ]
  },
  {
   "cell_type": "code",
   "execution_count": 14,
   "metadata": {},
   "outputs": [],
   "source": [
    "doc_table[\"title_sentence_similaritie\"] = similarities"
   ]
  },
  {
   "cell_type": "markdown",
   "metadata": {},
   "source": [
    "Score as the sum of probabilitys from all spots in the title/introduction and sentence"
   ]
  },
  {
   "cell_type": "code",
   "execution_count": 15,
   "metadata": {},
   "outputs": [],
   "source": [
    "introduction = \"\"\"Quantencomputer sollen eine der wichtigsten Technologien der Zukunft werden. In der Kryptographie könnten sie bald aktuelle Verschlüsselungsmethoden knacken oder neue Methoden möglich machen. Im Bereich der Materialforschung und -entwicklung sollen sie helfen, Strukturen von Chemikalien, Molekülen oder Medikamenten besser zu berechnen und zu simulieren – oder gar ganz neue Wege ermöglichen. Auch im Bereich von Optimierungsprozessen, Risikoanalysen und Detektion von Produktionsfehlern erhoffen sich Forschende Durchbrüche. Deswegen haben nicht nur Wissenschaftlerinnen und Wissenschaftler, sondern auch Unternehmen ein starkes Interesse an der Weiterentwicklung von Quantencomputern. Große Schlagzeilen machten in letzter Zeit oft Firmen, zum Beispiel Google, das 2019 verkündete, erstmals Quantenüberlegenheit erreicht zu haben [I] – also mit einem Quantencomputer eine Aufgabe gelöst zu haben, die ein klassischer Computer nicht in einem realistischen Zeitrahmen hätte lösen können. Damit die akademische Forschung nicht von der Privatwirtschaft abgehängt wird, haben Politiker in Deutschland und Europa in den letzten Jahren viele Förderprojekte initialisiert. So unterstützt die Bundesregierung den Forschungsbereich mit bis zu zwei Milliarden Euro [II], und das 2018 initialisierte EU-Flaggschiff-Projekt zu Quantencomputern stellt führenden europäischen Forschenden aus dem Bereich Quantentechnologien bis zu eine Milliarde Euro in Aussicht [III]. Das langfristige Ziel ist ein europäisches Quanteninternet. Das daraus entwachsene Projekt OpenSuperQ verfolgt das Ziel, den ersten Quantencomputer in Europa zu entwickeln [IV]. Doch kommen diese Förderungen da an, wo sie gebraucht werden? Wie steht Europa im internationalen Vergleich dar? Was passiert momentan in der Forschung zu Quantentechnologien? Welche Hoffnungen sind berechtigt, welche Befürchtungen begründet? Was wird in naher Zukunft passieren, wann gibt es Durchbrüche? Und welche Auswirkungen dieser Technologien sind zu erwarten? Diese und vor allem Ihre Fragen beantworteten drei Experten in einem 50-minütigen virtuellen Press Briefing.\"\"\""
   ]
  },
  {
   "cell_type": "code",
   "execution_count": 16,
   "metadata": {},
   "outputs": [],
   "source": [
    "title_wikifyed = wikify(text=title, service=\"tagme\", token=TAGME_TOKEN)\n",
    "intor_wikifyed = wikify(text=introduction, service=\"tagme\", token=TAGME_TOKEN)\n"
   ]
  },
  {
   "cell_type": "code",
   "execution_count": 17,
   "metadata": {},
   "outputs": [],
   "source": [
    "title_article_ids = {article[\"id\"]for article in title_wikifyed}  # get all article ids from title\n",
    "intro_article_ids = {article[\"id\"]for article in intor_wikifyed}  # get all article ids from introduction"
   ]
  },
  {
   "cell_type": "code",
   "execution_count": 18,
   "metadata": {},
   "outputs": [],
   "source": [
    "doc_table[\"title_wiki_score\"] = doc_table.apply(lambda x: wikified_article_score(x[\"sentence\"], title_article_ids), axis=1)"
   ]
  },
  {
   "cell_type": "code",
   "execution_count": 19,
   "metadata": {},
   "outputs": [],
   "source": [
    "doc_table[\"introduction_wiki_score\"] = doc_table.apply(lambda x: wikified_article_score(x[\"sentence\"], intro_article_ids), axis=1)"
   ]
  },
  {
   "cell_type": "code",
   "execution_count": 20,
   "metadata": {},
   "outputs": [
    {
     "data": {
      "text/html": [
       "<div>\n",
       "<style scoped>\n",
       "    .dataframe tbody tr th:only-of-type {\n",
       "        vertical-align: middle;\n",
       "    }\n",
       "\n",
       "    .dataframe tbody tr th {\n",
       "        vertical-align: top;\n",
       "    }\n",
       "\n",
       "    .dataframe thead th {\n",
       "        text-align: right;\n",
       "    }\n",
       "</style>\n",
       "<table border=\"1\" class=\"dataframe\">\n",
       "  <thead>\n",
       "    <tr style=\"text-align: right;\">\n",
       "      <th></th>\n",
       "      <th>segment_id</th>\n",
       "      <th>sentence</th>\n",
       "      <th>passage_id</th>\n",
       "      <th>title</th>\n",
       "      <th>date</th>\n",
       "      <th>speaker</th>\n",
       "      <th>timestamp</th>\n",
       "      <th>title_sentence_similaritie</th>\n",
       "      <th>title_wiki_score</th>\n",
       "      <th>introduction_wiki_score</th>\n",
       "    </tr>\n",
       "  </thead>\n",
       "  <tbody>\n",
       "    <tr>\n",
       "      <th>1</th>\n",
       "      <td>0</td>\n",
       "      <td>Herzlich willkommen hier zu unserem virtuellen...</td>\n",
       "      <td>0</td>\n",
       "      <td>„Steht der Quantenrechner vor der Tür? Forschu...</td>\n",
       "      <td>12.04.2021</td>\n",
       "      <td>Moderator</td>\n",
       "      <td>[00:00:00]</td>\n",
       "      <td>0.259937</td>\n",
       "      <td>1.000000</td>\n",
       "      <td>1.464395</td>\n",
       "    </tr>\n",
       "    <tr>\n",
       "      <th>152</th>\n",
       "      <td>1</td>\n",
       "      <td>Ist zum Beispiel der Quantencomputer von Googl...</td>\n",
       "      <td>14</td>\n",
       "      <td>„Steht der Quantenrechner vor der Tür? Forschu...</td>\n",
       "      <td>12.04.2021</td>\n",
       "      <td>Moderator</td>\n",
       "      <td>[00:21:52]</td>\n",
       "      <td>0.695814</td>\n",
       "      <td>1.000000</td>\n",
       "      <td>1.223249</td>\n",
       "    </tr>\n",
       "    <tr>\n",
       "      <th>347</th>\n",
       "      <td>0</td>\n",
       "      <td>Ein Aspekt der Tatsache, dass ein Quantencompu...</td>\n",
       "      <td>54</td>\n",
       "      <td>„Steht der Quantenrechner vor der Tür? Forschu...</td>\n",
       "      <td>12.04.2021</td>\n",
       "      <td>Frank Wilhelm-Mauch</td>\n",
       "      <td>[00:50:01]</td>\n",
       "      <td>0.556523</td>\n",
       "      <td>1.015368</td>\n",
       "      <td>1.144498</td>\n",
       "    </tr>\n",
       "    <tr>\n",
       "      <th>53</th>\n",
       "      <td>2</td>\n",
       "      <td>Herr Wilhelm-Mauch, mit OpenSuperQ sind Sie ja...</td>\n",
       "      <td>4</td>\n",
       "      <td>„Steht der Quantenrechner vor der Tür? Forschu...</td>\n",
       "      <td>12.04.2021</td>\n",
       "      <td>Moderator</td>\n",
       "      <td>[00:05:28]</td>\n",
       "      <td>0.344153</td>\n",
       "      <td>1.043478</td>\n",
       "      <td>1.046679</td>\n",
       "    </tr>\n",
       "    <tr>\n",
       "      <th>163</th>\n",
       "      <td>1</td>\n",
       "      <td>Da (sind die Ziele) grob zusammengefasst inner...</td>\n",
       "      <td>16</td>\n",
       "      <td>„Steht der Quantenrechner vor der Tür? Forschu...</td>\n",
       "      <td>12.04.2021</td>\n",
       "      <td>Moderator</td>\n",
       "      <td>[00:22:58]</td>\n",
       "      <td>0.695889</td>\n",
       "      <td>1.000000</td>\n",
       "      <td>1.046156</td>\n",
       "    </tr>\n",
       "  </tbody>\n",
       "</table>\n",
       "</div>"
      ],
      "text/plain": [
       "     segment_id                                           sentence  \\\n",
       "1             0  Herzlich willkommen hier zu unserem virtuellen...   \n",
       "152           1  Ist zum Beispiel der Quantencomputer von Googl...   \n",
       "347           0  Ein Aspekt der Tatsache, dass ein Quantencompu...   \n",
       "53            2  Herr Wilhelm-Mauch, mit OpenSuperQ sind Sie ja...   \n",
       "163           1  Da (sind die Ziele) grob zusammengefasst inner...   \n",
       "\n",
       "     passage_id                                              title  \\\n",
       "1             0  „Steht der Quantenrechner vor der Tür? Forschu...   \n",
       "152          14  „Steht der Quantenrechner vor der Tür? Forschu...   \n",
       "347          54  „Steht der Quantenrechner vor der Tür? Forschu...   \n",
       "53            4  „Steht der Quantenrechner vor der Tür? Forschu...   \n",
       "163          16  „Steht der Quantenrechner vor der Tür? Forschu...   \n",
       "\n",
       "           date              speaker   timestamp  title_sentence_similaritie  \\\n",
       "1    12.04.2021            Moderator  [00:00:00]                    0.259937   \n",
       "152  12.04.2021            Moderator  [00:21:52]                    0.695814   \n",
       "347  12.04.2021  Frank Wilhelm-Mauch  [00:50:01]                    0.556523   \n",
       "53   12.04.2021            Moderator  [00:05:28]                    0.344153   \n",
       "163  12.04.2021            Moderator  [00:22:58]                    0.695889   \n",
       "\n",
       "     title_wiki_score  introduction_wiki_score  \n",
       "1            1.000000                 1.464395  \n",
       "152          1.000000                 1.223249  \n",
       "347          1.015368                 1.144498  \n",
       "53           1.043478                 1.046679  \n",
       "163          1.000000                 1.046156  "
      ]
     },
     "execution_count": 20,
     "metadata": {},
     "output_type": "execute_result"
    }
   ],
   "source": [
    "doc_table.sort_values(by=\"introduction_wiki_score\", ascending=False).head()"
   ]
  },
  {
   "cell_type": "markdown",
   "metadata": {},
   "source": [
    "## 3. Detect claim sentences"
   ]
  },
  {
   "cell_type": "code",
   "execution_count": 21,
   "metadata": {},
   "outputs": [
    {
     "name": "stderr",
     "output_type": "stream",
     "text": [
      "The tokenizer class you load from this checkpoint is not the same type as the class this function is called from. It may result in unexpected tokenization. \n",
      "The tokenizer class you load from this checkpoint is 'BertTokenizer'. \n",
      "The class this function is called from is 'DistilBertTokenizer'.\n",
      "Some layers from the model checkpoint at deepset/gbert-base were not used when initializing TFDistilBertForSequenceClassification: ['nsp___cls', 'mlm___cls', 'bert']\n",
      "- This IS expected if you are initializing TFDistilBertForSequenceClassification from the checkpoint of a model trained on another task or with another architecture (e.g. initializing a BertForSequenceClassification model from a BertForPreTraining model).\n",
      "- This IS NOT expected if you are initializing TFDistilBertForSequenceClassification from the checkpoint of a model that you expect to be exactly identical (initializing a BertForSequenceClassification model from a BertForSequenceClassification model).\n",
      "Some layers of TFDistilBertForSequenceClassification were not initialized from the model checkpoint at deepset/gbert-base and are newly initialized: ['classifier', 'distilbert', 'dropout_37', 'pre_classifier']\n",
      "You should probably TRAIN this model on a down-stream task to be able to use it for predictions and inference.\n"
     ]
    }
   ],
   "source": [
    "detector = detect_claims.claim_detector(MODEL_NAME, MODEL_WEIGHTS_PATH)"
   ]
  },
  {
   "cell_type": "code",
   "execution_count": 22,
   "metadata": {},
   "outputs": [],
   "source": [
    "doc_table[\"claim\"] = doc_table.apply(lambda x: detector.is_claim(x[\"sentence\"]), axis=1)"
   ]
  },
  {
   "cell_type": "code",
   "execution_count": 23,
   "metadata": {},
   "outputs": [
    {
     "data": {
      "text/html": [
       "<div>\n",
       "<style scoped>\n",
       "    .dataframe tbody tr th:only-of-type {\n",
       "        vertical-align: middle;\n",
       "    }\n",
       "\n",
       "    .dataframe tbody tr th {\n",
       "        vertical-align: top;\n",
       "    }\n",
       "\n",
       "    .dataframe thead th {\n",
       "        text-align: right;\n",
       "    }\n",
       "</style>\n",
       "<table border=\"1\" class=\"dataframe\">\n",
       "  <thead>\n",
       "    <tr style=\"text-align: right;\">\n",
       "      <th></th>\n",
       "      <th>segment_id</th>\n",
       "      <th>sentence</th>\n",
       "      <th>passage_id</th>\n",
       "      <th>title</th>\n",
       "      <th>date</th>\n",
       "      <th>speaker</th>\n",
       "      <th>timestamp</th>\n",
       "      <th>title_sentence_similaritie</th>\n",
       "      <th>title_wiki_score</th>\n",
       "      <th>introduction_wiki_score</th>\n",
       "      <th>claim</th>\n",
       "    </tr>\n",
       "  </thead>\n",
       "  <tbody>\n",
       "    <tr>\n",
       "      <th>0</th>\n",
       "      <td>0</td>\n",
       "      <td>Guten Mittag liebe Journalistinnen und Journal...</td>\n",
       "      <td>0</td>\n",
       "      <td>„Steht der Quantenrechner vor der Tür? Forschu...</td>\n",
       "      <td>12.04.2021</td>\n",
       "      <td>Moderator</td>\n",
       "      <td>[00:00:00]</td>\n",
       "      <td>0.195183</td>\n",
       "      <td>0.0</td>\n",
       "      <td>0.000000</td>\n",
       "      <td>False</td>\n",
       "    </tr>\n",
       "    <tr>\n",
       "      <th>1</th>\n",
       "      <td>0</td>\n",
       "      <td>Herzlich willkommen hier zu unserem virtuellen...</td>\n",
       "      <td>0</td>\n",
       "      <td>„Steht der Quantenrechner vor der Tür? Forschu...</td>\n",
       "      <td>12.04.2021</td>\n",
       "      <td>Moderator</td>\n",
       "      <td>[00:00:00]</td>\n",
       "      <td>0.259937</td>\n",
       "      <td>1.0</td>\n",
       "      <td>1.464395</td>\n",
       "      <td>False</td>\n",
       "    </tr>\n",
       "    <tr>\n",
       "      <th>2</th>\n",
       "      <td>1</td>\n",
       "      <td>Mein Name ist Bastian Zimmermann, und ich bin ...</td>\n",
       "      <td>0</td>\n",
       "      <td>„Steht der Quantenrechner vor der Tür? Forschu...</td>\n",
       "      <td>12.04.2021</td>\n",
       "      <td>Moderator</td>\n",
       "      <td>[00:00:00]</td>\n",
       "      <td>0.004642</td>\n",
       "      <td>0.0</td>\n",
       "      <td>0.000000</td>\n",
       "      <td>False</td>\n",
       "    </tr>\n",
       "    <tr>\n",
       "      <th>3</th>\n",
       "      <td>2</td>\n",
       "      <td>Ich freue mich, heute auch unsere drei Experte...</td>\n",
       "      <td>0</td>\n",
       "      <td>„Steht der Quantenrechner vor der Tür? Forschu...</td>\n",
       "      <td>12.04.2021</td>\n",
       "      <td>Moderator</td>\n",
       "      <td>[00:00:00]</td>\n",
       "      <td>0.254553</td>\n",
       "      <td>0.0</td>\n",
       "      <td>0.004200</td>\n",
       "      <td>False</td>\n",
       "    </tr>\n",
       "    <tr>\n",
       "      <th>4</th>\n",
       "      <td>3</td>\n",
       "      <td>Man hört immer wieder, wie wichtig Quantentech...</td>\n",
       "      <td>0</td>\n",
       "      <td>„Steht der Quantenrechner vor der Tür? Forschu...</td>\n",
       "      <td>12.04.2021</td>\n",
       "      <td>Moderator</td>\n",
       "      <td>[00:00:00]</td>\n",
       "      <td>0.499324</td>\n",
       "      <td>1.0</td>\n",
       "      <td>1.008076</td>\n",
       "      <td>True</td>\n",
       "    </tr>\n",
       "  </tbody>\n",
       "</table>\n",
       "</div>"
      ],
      "text/plain": [
       "   segment_id                                           sentence  passage_id  \\\n",
       "0           0  Guten Mittag liebe Journalistinnen und Journal...           0   \n",
       "1           0  Herzlich willkommen hier zu unserem virtuellen...           0   \n",
       "2           1  Mein Name ist Bastian Zimmermann, und ich bin ...           0   \n",
       "3           2  Ich freue mich, heute auch unsere drei Experte...           0   \n",
       "4           3  Man hört immer wieder, wie wichtig Quantentech...           0   \n",
       "\n",
       "                                               title        date    speaker  \\\n",
       "0  „Steht der Quantenrechner vor der Tür? Forschu...  12.04.2021  Moderator   \n",
       "1  „Steht der Quantenrechner vor der Tür? Forschu...  12.04.2021  Moderator   \n",
       "2  „Steht der Quantenrechner vor der Tür? Forschu...  12.04.2021  Moderator   \n",
       "3  „Steht der Quantenrechner vor der Tür? Forschu...  12.04.2021  Moderator   \n",
       "4  „Steht der Quantenrechner vor der Tür? Forschu...  12.04.2021  Moderator   \n",
       "\n",
       "    timestamp  title_sentence_similaritie  title_wiki_score  \\\n",
       "0  [00:00:00]                    0.195183               0.0   \n",
       "1  [00:00:00]                    0.259937               1.0   \n",
       "2  [00:00:00]                    0.004642               0.0   \n",
       "3  [00:00:00]                    0.254553               0.0   \n",
       "4  [00:00:00]                    0.499324               1.0   \n",
       "\n",
       "   introduction_wiki_score  claim  \n",
       "0                 0.000000  False  \n",
       "1                 1.464395  False  \n",
       "2                 0.000000  False  \n",
       "3                 0.004200  False  \n",
       "4                 1.008076   True  "
      ]
     },
     "execution_count": 23,
     "metadata": {},
     "output_type": "execute_result"
    }
   ],
   "source": [
    "doc_table.head()"
   ]
  },
  {
   "cell_type": "markdown",
   "metadata": {},
   "source": [
    "## 4. Return statements"
   ]
  },
  {
   "cell_type": "markdown",
   "metadata": {},
   "source": [
    "### 4.1 Highlight claim sentences"
   ]
  },
  {
   "cell_type": "code",
   "execution_count": 24,
   "metadata": {},
   "outputs": [],
   "source": [
    "relevant_claims = doc_table[(doc_table[\"claim\"]==True)&(doc_table[\"speaker\"]!=\"Moderator\")]"
   ]
  },
  {
   "cell_type": "code",
   "execution_count": 25,
   "metadata": {},
   "outputs": [],
   "source": [
    "claim_sentences = relevant_claims[\"sentence\"].to_list()"
   ]
  },
  {
   "cell_type": "code",
   "execution_count": 26,
   "metadata": {},
   "outputs": [
    {
     "name": "stdout",
     "output_type": "stream",
     "text": [
      "Warning, sentence not found: \"3 Was man auch schon sieht beim Übergang von einem Experiment zu einem richtigen Computer und zu einem Großgerät ist diese ganze Pluralität von Plattformen.\"\n",
      "Warning, sentence not found: \"Das heißt also, Quantenmaschinen bauen, die es in der Größenordnung von vielleicht einigen zehn, mehreren hundert Quantenbits (geben) wird, die noch nicht fehlerkorrigiert sind, aber auf denen man doch schon 4 Quantenrechnungen machen kann.\"\n",
      "Warning, sentence not found: \"Allein in Deutschland gibt es zum Beispiel zwei Exzellenzcluster, einen im Rheinland und einen in 8 Würzburg, die sich damit beschäftigen.\"\n",
      "Warning, sentence not found: \"Wenn man die Ionen und die Supraleiter vergleicht: Die Ionen haben eine unglaublich geringe Fehlerrate und die Supraleiter haben eine etwas höhere Taktfrequenz, die langsamste Operation ist in Nanosekunden gemessen schneller und es kommt dann wirklich auf die Anwendung an, was wie 10 wichtig ist.\"\n",
      "Warning, sentence not found: \"Ein Aspekt der Tatsache, dass ein Quantencomputer als Forschungs- und Entwicklungsgroßgerät ein komplexes System mit vielen Komponenten ist und die Leistungsfähigkeit durch die schwächste Komponente bestimmt wird, was aber gleichzeitig die Chance für Deutschland ist, wo es eine breite Expertise in sehr vielen technologischen Aufgaben gibt, da auch eine 12 wichtige Rolle zu spielen und das gesamte Ökosystem abzudecken.\"\n"
     ]
    }
   ],
   "source": [
    "highlight_pdf.highlight_text(claim_sentences, SAMPLE_PDF_PATH, \"claims.pdf\", color=[\"green\", \"yellow\"])"
   ]
  },
  {
   "cell_type": "markdown",
   "metadata": {},
   "source": [
    "### 4.2 Highlight statements"
   ]
  },
  {
   "cell_type": "code",
   "execution_count": 27,
   "metadata": {},
   "outputs": [
    {
     "name": "stdout",
     "output_type": "stream",
     "text": [
      "Warning, sentence not found: \"3 Was man auch schon sieht beim Übergang von einem Experiment zu einem richtigen Computer und zu einem Großgerät ist diese ganze Pluralität von Plattformen.\"\n",
      "Warning, sentence not found: \"Das heißt also, Quantenmaschinen bauen, die es in der Größenordnung von vielleicht einigen zehn, mehreren hundert Quantenbits (geben) wird, die noch nicht fehlerkorrigiert sind, aber auf denen man doch schon 4 Quantenrechnungen machen kann.\"\n",
      "Warning, sentence not found: \"Allein in Deutschland gibt es zum Beispiel zwei Exzellenzcluster, einen im Rheinland und einen in 8 Würzburg, die sich damit beschäftigen.\"\n",
      "Warning, sentence not found: \"Wenn man die Ionen und die Supraleiter vergleicht: Die Ionen haben eine unglaublich geringe Fehlerrate und die Supraleiter haben eine etwas höhere Taktfrequenz, die langsamste Operation ist in Nanosekunden gemessen schneller und es kommt dann wirklich auf die Anwendung an, was wie 10 wichtig ist.\"\n",
      "Warning, sentence not found: \"Ein Aspekt der Tatsache, dass ein Quantencomputer als Forschungs- und Entwicklungsgroßgerät ein komplexes System mit vielen Komponenten ist und die Leistungsfähigkeit durch die schwächste Komponente bestimmt wird, was aber gleichzeitig die Chance für Deutschland ist, wo es eine breite Expertise in sehr vielen technologischen Aufgaben gibt, da auch eine 12 wichtige Rolle zu spielen und das gesamte Ökosystem abzudecken.\"\n"
     ]
    }
   ],
   "source": [
    "c = \"yellow\"\n",
    "highlight_pdf.highlight_text([], SAMPLE_PDF_PATH, \"statements.pdf\")\n",
    "\n",
    "passage_id_old = None\n",
    "segment_id_old = None\n",
    "\n",
    "for row in relevant_claims.iterrows():\n",
    "    passage_id = row[1][\"passage_id\"]\n",
    "    segment_id = row[1][\"segment_id\"]\n",
    "\n",
    "    if passage_id_old==passage_id and segment_id_old == segment_id:\n",
    "        continue\n",
    "    else:\n",
    "        sentences = doc_table[(doc_table[\"passage_id\"]==passage_id)&(doc_table[\"segment_id\"]==segment_id)][\"sentence\"].to_list()\n",
    "        highlight_pdf.highlight_text(sentences, \"statements.pdf\", \"statements.pdf\", color=c)\n",
    "        passage_id_old = passage_id\n",
    "        segment_id_old = segment_id\n",
    "\n",
    "        if c == \"yellow\":\n",
    "            c = \"red\"\n",
    "        else:\n",
    "            c = \"yellow\"\n",
    "        "
   ]
  },
  {
   "cell_type": "markdown",
   "metadata": {},
   "source": [
    "### 4.3 Highlight statements with claims"
   ]
  },
  {
   "cell_type": "code",
   "execution_count": 29,
   "metadata": {},
   "outputs": [
    {
     "name": "stdout",
     "output_type": "stream",
     "text": [
      "Warning, sentence not found: \"3 Was man auch schon sieht beim Übergang von einem Experiment zu einem richtigen Computer und zu einem Großgerät ist diese ganze Pluralität von Plattformen.\"\n",
      "Warning, sentence not found: \"Das heißt also, Quantenmaschinen bauen, die es in der Größenordnung von vielleicht einigen zehn, mehreren hundert Quantenbits (geben) wird, die noch nicht fehlerkorrigiert sind, aber auf denen man doch schon 4 Quantenrechnungen machen kann.\"\n",
      "Warning, sentence not found: \"Allein in Deutschland gibt es zum Beispiel zwei Exzellenzcluster, einen im Rheinland und einen in 8 Würzburg, die sich damit beschäftigen.\"\n",
      "Warning, sentence not found: \"Wenn man die Ionen und die Supraleiter vergleicht: Die Ionen haben eine unglaublich geringe Fehlerrate und die Supraleiter haben eine etwas höhere Taktfrequenz, die langsamste Operation ist in Nanosekunden gemessen schneller und es kommt dann wirklich auf die Anwendung an, was wie 10 wichtig ist.\"\n",
      "Warning, sentence not found: \"Ein Aspekt der Tatsache, dass ein Quantencomputer als Forschungs- und Entwicklungsgroßgerät ein komplexes System mit vielen Komponenten ist und die Leistungsfähigkeit durch die schwächste Komponente bestimmt wird, was aber gleichzeitig die Chance für Deutschland ist, wo es eine breite Expertise in sehr vielen technologischen Aufgaben gibt, da auch eine 12 wichtige Rolle zu spielen und das gesamte Ökosystem abzudecken.\"\n"
     ]
    }
   ],
   "source": [
    "c = \"yellow\"\n",
    "highlight_pdf.highlight_text([], SAMPLE_PDF_PATH, \"statements_claims.pdf\")\n",
    "\n",
    "passage_id_old = None\n",
    "segment_id_old = None\n",
    "\n",
    "for row in relevant_claims.iterrows():\n",
    "    passage_id = row[1][\"passage_id\"]\n",
    "    segment_id = row[1][\"segment_id\"]\n",
    "\n",
    "    if passage_id_old==passage_id and segment_id_old == segment_id:\n",
    "        continue\n",
    "    else:\n",
    "        sentences = doc_table[(doc_table[\"passage_id\"]==passage_id)&(doc_table[\"segment_id\"]==segment_id)][\"sentence\"].to_list()\n",
    "        highlight_pdf.highlight_text(sentences, \"statements_claims.pdf\", \"statements_claims.pdf\", color=c)\n",
    "        passage_id_old = passage_id\n",
    "        segment_id_old = segment_id\n",
    "\n",
    "        if c == \"yellow\":\n",
    "            c = \"red\"\n",
    "        else:\n",
    "            c = \"yellow\"\n",
    "        "
   ]
  },
  {
   "cell_type": "code",
   "execution_count": 30,
   "metadata": {},
   "outputs": [
    {
     "name": "stdout",
     "output_type": "stream",
     "text": [
      "Warning, sentence not found: \"3 Was man auch schon sieht beim Übergang von einem Experiment zu einem richtigen Computer und zu einem Großgerät ist diese ganze Pluralität von Plattformen.\"\n",
      "Warning, sentence not found: \"Das heißt also, Quantenmaschinen bauen, die es in der Größenordnung von vielleicht einigen zehn, mehreren hundert Quantenbits (geben) wird, die noch nicht fehlerkorrigiert sind, aber auf denen man doch schon 4 Quantenrechnungen machen kann.\"\n"
     ]
    }
   ],
   "source": [
    "highlight_pdf.highlight_text(claim_sentences, \"statements_claims.pdf\", \"statements_claims.pdf\", color=\"green\")"
   ]
  },
  {
   "cell_type": "code",
   "execution_count": null,
   "metadata": {},
   "outputs": [],
   "source": []
  }
 ],
 "metadata": {
  "interpreter": {
   "hash": "31f2aee4e71d21fbe5cf8b01ff0e069b9275f58929596ceb00d14d90e3e16cd6"
  },
  "kernelspec": {
   "display_name": "Python 3.8.9 64-bit",
   "language": "python",
   "name": "python3"
  },
  "language_info": {
   "codemirror_mode": {
    "name": "ipython",
    "version": 3
   },
   "file_extension": ".py",
   "mimetype": "text/x-python",
   "name": "python",
   "nbconvert_exporter": "python",
   "pygments_lexer": "ipython3",
   "version": "3.8.10"
  },
  "orig_nbformat": 4
 },
 "nbformat": 4,
 "nbformat_minor": 2
}
