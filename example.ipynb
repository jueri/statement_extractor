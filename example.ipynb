{
 "cells": [
  {
   "cell_type": "markdown",
   "metadata": {},
   "source": [
    "# Statement Extractor\n",
    "> Statement extraction through claim detection\n",
    "\n",
    "This Notebook guides you through the *Statement Extractor* module."
   ]
  },
  {
   "cell_type": "code",
   "execution_count": 1,
   "metadata": {},
   "outputs": [
    {
     "name": "stderr",
     "output_type": "stream",
     "text": [
      "2022-01-11 09:02:12.314710: W tensorflow/stream_executor/platform/default/dso_loader.cc:64] Could not load dynamic library 'libcudart.so.11.0'; dlerror: libcudart.so.11.0: cannot open shared object file: No such file or directory\n",
      "2022-01-11 09:02:12.314732: I tensorflow/stream_executor/cuda/cudart_stub.cc:29] Ignore above cudart dlerror if you do not have a GPU set up on your machine.\n"
     ]
    }
   ],
   "source": [
    "import pandas as pd\n",
    "\n",
    "from src.utils import pdf_parser\n",
    "from src import segmenter, detect_claims, highlight_pdf\n",
    "from config import SAMPLE_PDF_PATH, MODEL_NAME, MODEL_WEIGHTS_PATH, SPACY_DATA_PATH"
   ]
  },
  {
   "cell_type": "markdown",
   "metadata": {},
   "source": [
    "## 0. Load data"
   ]
  },
  {
   "cell_type": "code",
   "execution_count": 2,
   "metadata": {},
   "outputs": [],
   "source": [
    "# text = pdf_parser.pdf_to_text(SAMPLE_PDF_PATH)  # load all text from pdf\n",
    "text = pdf_parser.pdf_to_text(\"Transkript_Omikron_SMC-Press-Briefing_2022-01-05.pdf\")"
   ]
  },
  {
   "cell_type": "code",
   "execution_count": 3,
   "metadata": {},
   "outputs": [],
   "source": [
    "parse = pdf_parser.parse_text(text)  # parse pdf with specific document parser"
   ]
  },
  {
   "cell_type": "markdown",
   "metadata": {},
   "source": [
    "## 1. Create segments"
   ]
  },
  {
   "cell_type": "code",
   "execution_count": 4,
   "metadata": {},
   "outputs": [],
   "source": [
    "title = parse[\"title\"]\n",
    "date = parse[\"date\"]\n",
    "passages = parse[\"passages\"]  # this document has natural passages"
   ]
  },
  {
   "cell_type": "code",
   "execution_count": 5,
   "metadata": {},
   "outputs": [],
   "source": [
    "doc = []  # create empty doc"
   ]
  },
  {
   "cell_type": "code",
   "execution_count": 6,
   "metadata": {},
   "outputs": [],
   "source": [
    "passage_id = 0\n",
    "\n",
    "for passage in passages:\n",
    "    segments = segmenter.split_segments(passage.get(\"text\"), segment_len=4)\n",
    "    \n",
    "    for segment in segments:\n",
    "        segment[\"passage_id\"] = passage_id\n",
    "        doc.append(segment)\n",
    "    \n",
    "    passage_id += 1"
   ]
  },
  {
   "cell_type": "markdown",
   "metadata": {},
   "source": [
    "### 1.1 Load to table"
   ]
  },
  {
   "cell_type": "code",
   "execution_count": 7,
   "metadata": {},
   "outputs": [],
   "source": [
    "doc_table = pd.DataFrame(doc)"
   ]
  },
  {
   "cell_type": "code",
   "execution_count": 8,
   "metadata": {},
   "outputs": [
    {
     "data": {
      "text/html": [
       "<div>\n",
       "<style scoped>\n",
       "    .dataframe tbody tr th:only-of-type {\n",
       "        vertical-align: middle;\n",
       "    }\n",
       "\n",
       "    .dataframe tbody tr th {\n",
       "        vertical-align: top;\n",
       "    }\n",
       "\n",
       "    .dataframe thead th {\n",
       "        text-align: right;\n",
       "    }\n",
       "</style>\n",
       "<table border=\"1\" class=\"dataframe\">\n",
       "  <thead>\n",
       "    <tr style=\"text-align: right;\">\n",
       "      <th></th>\n",
       "      <th>segment_id</th>\n",
       "      <th>sentence</th>\n",
       "      <th>passage_id</th>\n",
       "    </tr>\n",
       "  </thead>\n",
       "  <tbody>\n",
       "    <tr>\n",
       "      <th>0</th>\n",
       "      <td>0</td>\n",
       "      <td>Herzlich willkommen zum nächsten Press Briefin...</td>\n",
       "      <td>0</td>\n",
       "    </tr>\n",
       "    <tr>\n",
       "      <th>1</th>\n",
       "      <td>0</td>\n",
       "      <td>Dieses Mal zum Thema Neue Erkenntnisse zu Omik...</td>\n",
       "      <td>0</td>\n",
       "    </tr>\n",
       "    <tr>\n",
       "      <th>2</th>\n",
       "      <td>1</td>\n",
       "      <td>Mein Name ist Philip Jacobs, und ich bin hier ...</td>\n",
       "      <td>0</td>\n",
       "    </tr>\n",
       "    <tr>\n",
       "      <th>3</th>\n",
       "      <td>2</td>\n",
       "      <td>Die Omikron-Variante breitet sich in Deutschla...</td>\n",
       "      <td>0</td>\n",
       "    </tr>\n",
       "    <tr>\n",
       "      <th>4</th>\n",
       "      <td>2</td>\n",
       "      <td>Wir alle sehen es und hören es natürlich.</td>\n",
       "      <td>0</td>\n",
       "    </tr>\n",
       "  </tbody>\n",
       "</table>\n",
       "</div>"
      ],
      "text/plain": [
       "   segment_id                                           sentence  passage_id\n",
       "0           0  Herzlich willkommen zum nächsten Press Briefin...           0\n",
       "1           0  Dieses Mal zum Thema Neue Erkenntnisse zu Omik...           0\n",
       "2           1  Mein Name ist Philip Jacobs, und ich bin hier ...           0\n",
       "3           2  Die Omikron-Variante breitet sich in Deutschla...           0\n",
       "4           2          Wir alle sehen es und hören es natürlich.           0"
      ]
     },
     "execution_count": 8,
     "metadata": {},
     "output_type": "execute_result"
    }
   ],
   "source": [
    "doc_table.head()"
   ]
  },
  {
   "cell_type": "markdown",
   "metadata": {},
   "source": [
    "### 1.2 Add Metadata"
   ]
  },
  {
   "cell_type": "code",
   "execution_count": 9,
   "metadata": {},
   "outputs": [],
   "source": [
    "doc_table[\"title\"] = title\n",
    "doc_table[\"date\"] = date"
   ]
  },
  {
   "cell_type": "code",
   "execution_count": 10,
   "metadata": {},
   "outputs": [
    {
     "name": "stderr",
     "output_type": "stream",
     "text": [
      "/root/.local/lib/python3.9/site-packages/pandas/core/indexing.py:1732: SettingWithCopyWarning: \n",
      "A value is trying to be set on a copy of a slice from a DataFrame\n",
      "\n",
      "See the caveats in the documentation: https://pandas.pydata.org/pandas-docs/stable/user_guide/indexing.html#returning-a-view-versus-a-copy\n",
      "  self._setitem_single_block(indexer, value, name)\n",
      "\n"
     ]
    }
   ],
   "source": [
    "doc_table[\"speaker\"] = None\n",
    "doc_table[\"timestamp\"] = None\n",
    "\n",
    "for idx, passage in enumerate(passages):\n",
    "    speaker = passage.get(\"speaker\")\n",
    "    timestamp = passage.get(\"timestamp\")\n",
    "    \n",
    "    doc_table['speaker'].loc[doc_table['passage_id'] == idx] = speaker\n",
    "    doc_table['timestamp'].loc[doc_table['passage_id'] == idx] = timestamp\n"
   ]
  },
  {
   "cell_type": "code",
   "execution_count": 11,
   "metadata": {},
   "outputs": [
    {
     "data": {
      "text/html": [
       "<div>\n",
       "<style scoped>\n",
       "    .dataframe tbody tr th:only-of-type {\n",
       "        vertical-align: middle;\n",
       "    }\n",
       "\n",
       "    .dataframe tbody tr th {\n",
       "        vertical-align: top;\n",
       "    }\n",
       "\n",
       "    .dataframe thead th {\n",
       "        text-align: right;\n",
       "    }\n",
       "</style>\n",
       "<table border=\"1\" class=\"dataframe\">\n",
       "  <thead>\n",
       "    <tr style=\"text-align: right;\">\n",
       "      <th></th>\n",
       "      <th>segment_id</th>\n",
       "      <th>sentence</th>\n",
       "      <th>passage_id</th>\n",
       "      <th>title</th>\n",
       "      <th>date</th>\n",
       "      <th>speaker</th>\n",
       "      <th>timestamp</th>\n",
       "    </tr>\n",
       "  </thead>\n",
       "  <tbody>\n",
       "    <tr>\n",
       "      <th>0</th>\n",
       "      <td>0</td>\n",
       "      <td>Herzlich willkommen zum nächsten Press Briefin...</td>\n",
       "      <td>0</td>\n",
       "      <td>„Neue Erkenntnisse zu Omikron und Ausblick“</td>\n",
       "      <td>05.01.2022</td>\n",
       "      <td>Moderator [00:00:00]</td>\n",
       "      <td></td>\n",
       "    </tr>\n",
       "    <tr>\n",
       "      <th>1</th>\n",
       "      <td>0</td>\n",
       "      <td>Dieses Mal zum Thema Neue Erkenntnisse zu Omik...</td>\n",
       "      <td>0</td>\n",
       "      <td>„Neue Erkenntnisse zu Omikron und Ausblick“</td>\n",
       "      <td>05.01.2022</td>\n",
       "      <td>Moderator [00:00:00]</td>\n",
       "      <td></td>\n",
       "    </tr>\n",
       "    <tr>\n",
       "      <th>2</th>\n",
       "      <td>1</td>\n",
       "      <td>Mein Name ist Philip Jacobs, und ich bin hier ...</td>\n",
       "      <td>0</td>\n",
       "      <td>„Neue Erkenntnisse zu Omikron und Ausblick“</td>\n",
       "      <td>05.01.2022</td>\n",
       "      <td>Moderator [00:00:00]</td>\n",
       "      <td></td>\n",
       "    </tr>\n",
       "    <tr>\n",
       "      <th>3</th>\n",
       "      <td>2</td>\n",
       "      <td>Die Omikron-Variante breitet sich in Deutschla...</td>\n",
       "      <td>0</td>\n",
       "      <td>„Neue Erkenntnisse zu Omikron und Ausblick“</td>\n",
       "      <td>05.01.2022</td>\n",
       "      <td>Moderator [00:00:00]</td>\n",
       "      <td></td>\n",
       "    </tr>\n",
       "    <tr>\n",
       "      <th>4</th>\n",
       "      <td>2</td>\n",
       "      <td>Wir alle sehen es und hören es natürlich.</td>\n",
       "      <td>0</td>\n",
       "      <td>„Neue Erkenntnisse zu Omikron und Ausblick“</td>\n",
       "      <td>05.01.2022</td>\n",
       "      <td>Moderator [00:00:00]</td>\n",
       "      <td></td>\n",
       "    </tr>\n",
       "  </tbody>\n",
       "</table>\n",
       "</div>"
      ],
      "text/plain": [
       "   segment_id                                           sentence  passage_id  \\\n",
       "0           0  Herzlich willkommen zum nächsten Press Briefin...           0   \n",
       "1           0  Dieses Mal zum Thema Neue Erkenntnisse zu Omik...           0   \n",
       "2           1  Mein Name ist Philip Jacobs, und ich bin hier ...           0   \n",
       "3           2  Die Omikron-Variante breitet sich in Deutschla...           0   \n",
       "4           2          Wir alle sehen es und hören es natürlich.           0   \n",
       "\n",
       "                                          title        date  \\\n",
       "0  „Neue Erkenntnisse zu Omikron und Ausblick“   05.01.2022   \n",
       "1  „Neue Erkenntnisse zu Omikron und Ausblick“   05.01.2022   \n",
       "2  „Neue Erkenntnisse zu Omikron und Ausblick“   05.01.2022   \n",
       "3  „Neue Erkenntnisse zu Omikron und Ausblick“   05.01.2022   \n",
       "4  „Neue Erkenntnisse zu Omikron und Ausblick“   05.01.2022   \n",
       "\n",
       "                speaker timestamp  \n",
       "0  Moderator [00:00:00]            \n",
       "1  Moderator [00:00:00]            \n",
       "2  Moderator [00:00:00]            \n",
       "3  Moderator [00:00:00]            \n",
       "4  Moderator [00:00:00]            "
      ]
     },
     "execution_count": 11,
     "metadata": {},
     "output_type": "execute_result"
    }
   ],
   "source": [
    "doc_table.head()"
   ]
  },
  {
   "cell_type": "markdown",
   "metadata": {},
   "source": [
    "## 2. Detect main concept\n",
    "Topic Sentence similarity by sentence embedding (dot product of word embeddings)"
   ]
  },
  {
   "cell_type": "code",
   "execution_count": 77,
   "metadata": {},
   "outputs": [
    {
     "ename": "ImportError",
     "evalue": "cannot import name 'wikified_article_score' from 'src.main_concept' (/workspaces/statement_extractor/src/main_concept.py)",
     "output_type": "error",
     "traceback": [
      "\u001b[0;31m---------------------------------------------------------------------------\u001b[0m",
      "\u001b[0;31mImportError\u001b[0m                               Traceback (most recent call last)",
      "\u001b[0;32m/tmp/ipykernel_5703/2235310837.py\u001b[0m in \u001b[0;36m<module>\u001b[0;34m\u001b[0m\n\u001b[0;32m----> 1\u001b[0;31m \u001b[0;32mfrom\u001b[0m \u001b[0msrc\u001b[0m\u001b[0;34m.\u001b[0m\u001b[0mmain_concept\u001b[0m \u001b[0;32mimport\u001b[0m \u001b[0msentence_title_similarity\u001b[0m\u001b[0;34m,\u001b[0m \u001b[0mwikified_article_score\u001b[0m\u001b[0;34m,\u001b[0m \u001b[0mwikify\u001b[0m\u001b[0;34m\u001b[0m\u001b[0;34m\u001b[0m\u001b[0m\n\u001b[0m",
      "\u001b[0;31mImportError\u001b[0m: cannot import name 'wikified_article_score' from 'src.main_concept' (/workspaces/statement_extractor/src/main_concept.py)"
     ]
    }
   ],
   "source": [
    "from src.main_concept import sentence_title_similarity, wikified_article_score, wikify\n",
    "from config import TAGME_TOKEN, DANDELION_TOKEN"
   ]
  },
  {
   "cell_type": "code",
   "execution_count": 48,
   "metadata": {},
   "outputs": [],
   "source": [
    "similarities = sentence_title_similarity(text, title, doc_table[\"sentence\"].to_list())"
   ]
  },
  {
   "cell_type": "code",
   "execution_count": 49,
   "metadata": {},
   "outputs": [],
   "source": [
    "doc_table[\"title_sentence_similaritie\"] = similarities"
   ]
  },
  {
   "cell_type": "markdown",
   "metadata": {},
   "source": [
    "Score as the sum of probabilitys from all spots in the title/introduction and sentence"
   ]
  },
  {
   "cell_type": "code",
   "execution_count": 58,
   "metadata": {},
   "outputs": [],
   "source": [
    "introduction = \"\"\"Die Omikron-Variante breitet sich in Deutschland weiter aus. Bundesgesundheitsminister Karl Lauterbach rechnet damit, dass die Variante hierzulande bald vorherrschend sein wird. Bei einer einfachen Fortschreibung der Wachstumsraten vor Weihnachten wäre dies schon jetzt der Fall. Aktuelle Studien deuten darauf hin, dass sich Omikron zwar rascher ausbreitet als vorherige Varianten, aber im Vergleich zur Delta-Variante zu milderen Krankheitsverläufen führt. So ist etwa die Viruslast in der Lunge niedriger als bei einer Delta-Infektion [I]. Krankenhausdaten aus Großbritannien stützen diese Beobachtungen: Während die Zahl der Corona-Patienten in den Kliniken steigt, stagniert die Zahl der genutzten Beatmungsplätze weitgehend [II]. Die Patienten werden also im Krankenhaus behandelt, benötigen aber offenbar seltener Atemhilfe. In Deutschland sinkt die Hospitalisierungsrate derzeit noch, allerdings ist anzunehmen, dass Omikron trotz steigender Impfquote aufgrund der hohen Infektiosität noch zu einer größeren Belastung für das Gesundheitssystem und die Wirtschaft werden könnte, als es die Daten bisher suggerieren. Bund und Länder wollen deshalb am Freitag unter anderem über etwaige neue Kontaktbeschränkungen beraten und darüber, ob die Quarantäneregeln angepasst werden. Denn mit Ausbreitung der Omikron-Variante wächst die Gefahr, dass auch die Zahl von Quarantäne-Anordnungen bei Kontaktpersonen von Infizierten steigt. Das Robert Koch-Institut empfiehlt derzeit im Fall von Omikron immer eine Quarantäne – auch für geimpfte und genesene Kontaktpersonen. Über die neuesten Erkenntnisse zur Omikron-Variante, den Immunschutz nach Impfung und die Lage in den Kliniken diskutierten Fachleute in einem 50-minütigen Press Briefing des SMC.\"\"\""
   ]
  },
  {
   "cell_type": "code",
   "execution_count": 66,
   "metadata": {},
   "outputs": [],
   "source": [
    "title_wikifyed = wikify(text=title, service=\"tagme\", token=TAGME_TOKEN)\n",
    "intor_wikifyed = wikify(text=introduction, service=\"tagme\", token=TAGME_TOKEN)\n"
   ]
  },
  {
   "cell_type": "code",
   "execution_count": 67,
   "metadata": {},
   "outputs": [],
   "source": [
    "title_article_ids = {article[\"id\"]for article in title_wikifyed}  # get all article ids from title\n",
    "intro_article_ids = {article[\"id\"]for article in intor_wikifyed}  # get all article ids from introduction"
   ]
  },
  {
   "cell_type": "code",
   "execution_count": 70,
   "metadata": {},
   "outputs": [],
   "source": [
    "doc_table[\"title_wiki_score\"] = doc_table.apply(lambda x: wikified_article_score(x[\"sentence\"], title_article_ids), axis=1)"
   ]
  },
  {
   "cell_type": "code",
   "execution_count": 71,
   "metadata": {},
   "outputs": [],
   "source": [
    "doc_table[\"introduction_wiki_score\"] = doc_table.apply(lambda x: wikified_article_score(x[\"sentence\"], intro_article_ids), axis=1)"
   ]
  },
  {
   "cell_type": "code",
   "execution_count": 78,
   "metadata": {},
   "outputs": [
    {
     "data": {
      "text/html": [
       "<div>\n",
       "<style scoped>\n",
       "    .dataframe tbody tr th:only-of-type {\n",
       "        vertical-align: middle;\n",
       "    }\n",
       "\n",
       "    .dataframe tbody tr th {\n",
       "        vertical-align: top;\n",
       "    }\n",
       "\n",
       "    .dataframe thead th {\n",
       "        text-align: right;\n",
       "    }\n",
       "</style>\n",
       "<table border=\"1\" class=\"dataframe\">\n",
       "  <thead>\n",
       "    <tr style=\"text-align: right;\">\n",
       "      <th></th>\n",
       "      <th>segment_id</th>\n",
       "      <th>sentence</th>\n",
       "      <th>passage_id</th>\n",
       "      <th>title</th>\n",
       "      <th>date</th>\n",
       "      <th>speaker</th>\n",
       "      <th>timestamp</th>\n",
       "      <th>wiki_score</th>\n",
       "      <th>title_wiki_score</th>\n",
       "      <th>introduction_wiki_score</th>\n",
       "    </tr>\n",
       "  </thead>\n",
       "  <tbody>\n",
       "    <tr>\n",
       "      <th>12</th>\n",
       "      <td>2</td>\n",
       "      <td>Allerdings ist anzunehmen, dass aufgrund allei...</td>\n",
       "      <td>0</td>\n",
       "      <td>„Neue Erkenntnisse zu Omikron und Ausblick“</td>\n",
       "      <td>05.01.2022</td>\n",
       "      <td>Moderator [00:00:00]</td>\n",
       "      <td></td>\n",
       "      <td>0.583333</td>\n",
       "      <td>0.583333</td>\n",
       "      <td>1.932396</td>\n",
       "    </tr>\n",
       "    <tr>\n",
       "      <th>8</th>\n",
       "      <td>2</td>\n",
       "      <td>So scheint die Viruslast in der Lunge etwas ni...</td>\n",
       "      <td>0</td>\n",
       "      <td>„Neue Erkenntnisse zu Omikron und Ausblick“</td>\n",
       "      <td>05.01.2022</td>\n",
       "      <td>Moderator [00:00:00]</td>\n",
       "      <td></td>\n",
       "      <td>0.000000</td>\n",
       "      <td>0.000000</td>\n",
       "      <td>1.686103</td>\n",
       "    </tr>\n",
       "    <tr>\n",
       "      <th>5</th>\n",
       "      <td>2</td>\n",
       "      <td>Bundesgesundheitsminister Karl Lauterbach rech...</td>\n",
       "      <td>0</td>\n",
       "      <td>„Neue Erkenntnisse zu Omikron und Ausblick“</td>\n",
       "      <td>05.01.2022</td>\n",
       "      <td>Moderator [00:00:00]</td>\n",
       "      <td></td>\n",
       "      <td>0.000000</td>\n",
       "      <td>0.000000</td>\n",
       "      <td>1.489703</td>\n",
       "    </tr>\n",
       "    <tr>\n",
       "      <th>53</th>\n",
       "      <td>0</td>\n",
       "      <td>Es gibt diese Studien, die suggerieren, dass d...</td>\n",
       "      <td>6</td>\n",
       "      <td>„Neue Erkenntnisse zu Omikron und Ausblick“</td>\n",
       "      <td>05.01.2022</td>\n",
       "      <td>Moderator [00:06:34]</td>\n",
       "      <td></td>\n",
       "      <td>0.000000</td>\n",
       "      <td>0.000000</td>\n",
       "      <td>1.295855</td>\n",
       "    </tr>\n",
       "    <tr>\n",
       "      <th>104</th>\n",
       "      <td>6</td>\n",
       "      <td>Das heißt also, die Effekte in Großbritannien,...</td>\n",
       "      <td>11</td>\n",
       "      <td>„Neue Erkenntnisse zu Omikron und Ausblick“</td>\n",
       "      <td>05.01.2022</td>\n",
       "      <td>Clemens Wendtner [00:11:32]</td>\n",
       "      <td></td>\n",
       "      <td>0.583333</td>\n",
       "      <td>0.583333</td>\n",
       "      <td>1.245173</td>\n",
       "    </tr>\n",
       "  </tbody>\n",
       "</table>\n",
       "</div>"
      ],
      "text/plain": [
       "     segment_id                                           sentence  \\\n",
       "12            2  Allerdings ist anzunehmen, dass aufgrund allei...   \n",
       "8             2  So scheint die Viruslast in der Lunge etwas ni...   \n",
       "5             2  Bundesgesundheitsminister Karl Lauterbach rech...   \n",
       "53            0  Es gibt diese Studien, die suggerieren, dass d...   \n",
       "104           6  Das heißt also, die Effekte in Großbritannien,...   \n",
       "\n",
       "     passage_id                                         title        date  \\\n",
       "12            0  „Neue Erkenntnisse zu Omikron und Ausblick“   05.01.2022   \n",
       "8             0  „Neue Erkenntnisse zu Omikron und Ausblick“   05.01.2022   \n",
       "5             0  „Neue Erkenntnisse zu Omikron und Ausblick“   05.01.2022   \n",
       "53            6  „Neue Erkenntnisse zu Omikron und Ausblick“   05.01.2022   \n",
       "104          11  „Neue Erkenntnisse zu Omikron und Ausblick“   05.01.2022   \n",
       "\n",
       "                         speaker timestamp  wiki_score  title_wiki_score  \\\n",
       "12          Moderator [00:00:00]              0.583333          0.583333   \n",
       "8           Moderator [00:00:00]              0.000000          0.000000   \n",
       "5           Moderator [00:00:00]              0.000000          0.000000   \n",
       "53          Moderator [00:06:34]              0.000000          0.000000   \n",
       "104  Clemens Wendtner [00:11:32]              0.583333          0.583333   \n",
       "\n",
       "     introduction_wiki_score  \n",
       "12                  1.932396  \n",
       "8                   1.686103  \n",
       "5                   1.489703  \n",
       "53                  1.295855  \n",
       "104                 1.245173  "
      ]
     },
     "execution_count": 78,
     "metadata": {},
     "output_type": "execute_result"
    }
   ],
   "source": [
    "doc_table.sort_values(by=\"introduction_wiki_score\", ascending=False).head()"
   ]
  },
  {
   "cell_type": "markdown",
   "metadata": {},
   "source": [
    "## 3. Detect claim sentences"
   ]
  },
  {
   "cell_type": "code",
   "execution_count": 12,
   "metadata": {},
   "outputs": [
    {
     "name": "stderr",
     "output_type": "stream",
     "text": [
      "The tokenizer class you load from this checkpoint is not the same type as the class this function is called from. It may result in unexpected tokenization. \n",
      "The tokenizer class you load from this checkpoint is 'BertTokenizer'. \n",
      "The class this function is called from is 'DistilBertTokenizer'.\n",
      "2021-12-30 16:50:48.951937: W tensorflow/stream_executor/platform/default/dso_loader.cc:64] Could not load dynamic library 'libcuda.so.1'; dlerror: libcuda.so.1: cannot open shared object file: No such file or directory\n",
      "2021-12-30 16:50:48.951958: W tensorflow/stream_executor/cuda/cuda_driver.cc:269] failed call to cuInit: UNKNOWN ERROR (303)\n",
      "2021-12-30 16:50:48.951971: I tensorflow/stream_executor/cuda/cuda_diagnostics.cc:156] kernel driver does not appear to be running on this host (4c625dcec243): /proc/driver/nvidia/version does not exist\n",
      "2021-12-30 16:50:48.952101: I tensorflow/core/platform/cpu_feature_guard.cc:151] This TensorFlow binary is optimized with oneAPI Deep Neural Network Library (oneDNN) to use the following CPU instructions in performance-critical operations:  AVX2 FMA\n",
      "To enable them in other operations, rebuild TensorFlow with the appropriate compiler flags.\n",
      "2021-12-30 16:50:48.964693: W tensorflow/python/util/util.cc:368] Sets are not currently considered sequences, but this may change in the future, so consider avoiding using them.\n",
      "Some layers from the model checkpoint at deepset/gbert-base were not used when initializing TFDistilBertForSequenceClassification: ['nsp___cls', 'bert', 'mlm___cls']\n",
      "- This IS expected if you are initializing TFDistilBertForSequenceClassification from the checkpoint of a model trained on another task or with another architecture (e.g. initializing a BertForSequenceClassification model from a BertForPreTraining model).\n",
      "- This IS NOT expected if you are initializing TFDistilBertForSequenceClassification from the checkpoint of a model that you expect to be exactly identical (initializing a BertForSequenceClassification model from a BertForSequenceClassification model).\n",
      "Some layers of TFDistilBertForSequenceClassification were not initialized from the model checkpoint at deepset/gbert-base and are newly initialized: ['pre_classifier', 'distilbert', 'dropout_37', 'classifier']\n",
      "You should probably TRAIN this model on a down-stream task to be able to use it for predictions and inference.\n"
     ]
    }
   ],
   "source": [
    "detector = detect_claims.claim_detector(MODEL_NAME, MODEL_WEIGHTS_PATH)"
   ]
  },
  {
   "cell_type": "code",
   "execution_count": 13,
   "metadata": {},
   "outputs": [],
   "source": [
    "doc_table[\"claim\"] = doc_table.apply(lambda x: detector.is_claim(x[\"sentence\"]), axis=1)"
   ]
  },
  {
   "cell_type": "code",
   "execution_count": 14,
   "metadata": {},
   "outputs": [
    {
     "data": {
      "text/html": [
       "<div>\n",
       "<style scoped>\n",
       "    .dataframe tbody tr th:only-of-type {\n",
       "        vertical-align: middle;\n",
       "    }\n",
       "\n",
       "    .dataframe tbody tr th {\n",
       "        vertical-align: top;\n",
       "    }\n",
       "\n",
       "    .dataframe thead th {\n",
       "        text-align: right;\n",
       "    }\n",
       "</style>\n",
       "<table border=\"1\" class=\"dataframe\">\n",
       "  <thead>\n",
       "    <tr style=\"text-align: right;\">\n",
       "      <th></th>\n",
       "      <th>segment_id</th>\n",
       "      <th>sentence</th>\n",
       "      <th>passage_id</th>\n",
       "      <th>title</th>\n",
       "      <th>date</th>\n",
       "      <th>speaker</th>\n",
       "      <th>timestamp</th>\n",
       "      <th>claim</th>\n",
       "    </tr>\n",
       "  </thead>\n",
       "  <tbody>\n",
       "    <tr>\n",
       "      <th>0</th>\n",
       "      <td>0</td>\n",
       "      <td>Guten Mittag liebe Journalistinnen und Journal...</td>\n",
       "      <td>0</td>\n",
       "      <td>„Steht der Quantenrechner vor der Tür? Forschu...</td>\n",
       "      <td>12.04.2021</td>\n",
       "      <td>Moderator</td>\n",
       "      <td>[00:00:00]</td>\n",
       "      <td>False</td>\n",
       "    </tr>\n",
       "    <tr>\n",
       "      <th>1</th>\n",
       "      <td>0</td>\n",
       "      <td>Herzlich willkommen hier zu unserem virtuellen...</td>\n",
       "      <td>0</td>\n",
       "      <td>„Steht der Quantenrechner vor der Tür? Forschu...</td>\n",
       "      <td>12.04.2021</td>\n",
       "      <td>Moderator</td>\n",
       "      <td>[00:00:00]</td>\n",
       "      <td>False</td>\n",
       "    </tr>\n",
       "    <tr>\n",
       "      <th>2</th>\n",
       "      <td>1</td>\n",
       "      <td>Mein Name ist Bastian Zimmermann, und ich bin ...</td>\n",
       "      <td>0</td>\n",
       "      <td>„Steht der Quantenrechner vor der Tür? Forschu...</td>\n",
       "      <td>12.04.2021</td>\n",
       "      <td>Moderator</td>\n",
       "      <td>[00:00:00]</td>\n",
       "      <td>False</td>\n",
       "    </tr>\n",
       "    <tr>\n",
       "      <th>3</th>\n",
       "      <td>1</td>\n",
       "      <td>Ich freue mich, heute auch unsere drei Experte...</td>\n",
       "      <td>0</td>\n",
       "      <td>„Steht der Quantenrechner vor der Tür? Forschu...</td>\n",
       "      <td>12.04.2021</td>\n",
       "      <td>Moderator</td>\n",
       "      <td>[00:00:00]</td>\n",
       "      <td>False</td>\n",
       "    </tr>\n",
       "    <tr>\n",
       "      <th>4</th>\n",
       "      <td>2</td>\n",
       "      <td>Man hört immer wieder, wie wichtig Quantentech...</td>\n",
       "      <td>0</td>\n",
       "      <td>„Steht der Quantenrechner vor der Tür? Forschu...</td>\n",
       "      <td>12.04.2021</td>\n",
       "      <td>Moderator</td>\n",
       "      <td>[00:00:00]</td>\n",
       "      <td>False</td>\n",
       "    </tr>\n",
       "  </tbody>\n",
       "</table>\n",
       "</div>"
      ],
      "text/plain": [
       "   segment_id                                           sentence  passage_id  \\\n",
       "0           0  Guten Mittag liebe Journalistinnen und Journal...           0   \n",
       "1           0  Herzlich willkommen hier zu unserem virtuellen...           0   \n",
       "2           1  Mein Name ist Bastian Zimmermann, und ich bin ...           0   \n",
       "3           1  Ich freue mich, heute auch unsere drei Experte...           0   \n",
       "4           2  Man hört immer wieder, wie wichtig Quantentech...           0   \n",
       "\n",
       "                                               title        date    speaker  \\\n",
       "0  „Steht der Quantenrechner vor der Tür? Forschu...  12.04.2021  Moderator   \n",
       "1  „Steht der Quantenrechner vor der Tür? Forschu...  12.04.2021  Moderator   \n",
       "2  „Steht der Quantenrechner vor der Tür? Forschu...  12.04.2021  Moderator   \n",
       "3  „Steht der Quantenrechner vor der Tür? Forschu...  12.04.2021  Moderator   \n",
       "4  „Steht der Quantenrechner vor der Tür? Forschu...  12.04.2021  Moderator   \n",
       "\n",
       "    timestamp  claim  \n",
       "0  [00:00:00]  False  \n",
       "1  [00:00:00]  False  \n",
       "2  [00:00:00]  False  \n",
       "3  [00:00:00]  False  \n",
       "4  [00:00:00]  False  "
      ]
     },
     "execution_count": 14,
     "metadata": {},
     "output_type": "execute_result"
    }
   ],
   "source": [
    "doc_table.head()"
   ]
  },
  {
   "cell_type": "code",
   "execution_count": 15,
   "metadata": {},
   "outputs": [],
   "source": [
    "doc_table.to_csv(\"cache.csv\", index=False)"
   ]
  },
  {
   "cell_type": "code",
   "execution_count": 16,
   "metadata": {},
   "outputs": [],
   "source": [
    "doc_table = pd.read_csv(\"cache.csv\")"
   ]
  },
  {
   "cell_type": "markdown",
   "metadata": {},
   "source": [
    "## 4. Return statements"
   ]
  },
  {
   "cell_type": "markdown",
   "metadata": {},
   "source": [
    "### 4.1 Highlight claim sentences"
   ]
  },
  {
   "cell_type": "code",
   "execution_count": 17,
   "metadata": {},
   "outputs": [],
   "source": [
    "relevant_claims = doc_table[(doc_table[\"claim\"]==True)&(doc_table[\"speaker\"]!=\"Moderator\")]"
   ]
  },
  {
   "cell_type": "code",
   "execution_count": 18,
   "metadata": {},
   "outputs": [],
   "source": [
    "claim_sentences = relevant_claims[\"sentence\"].to_list()"
   ]
  },
  {
   "cell_type": "code",
   "execution_count": 19,
   "metadata": {},
   "outputs": [
    {
     "name": "stdout",
     "output_type": "stream",
     "text": [
      "Error, sentence not found\n",
      "Error, sentence not found\n"
     ]
    }
   ],
   "source": [
    "highlight_pdf.highlight_text(claim_sentences, SAMPLE_PDF_PATH, \"claims.pdf\", color=[\"green\", \"yellow\"])"
   ]
  },
  {
   "cell_type": "markdown",
   "metadata": {},
   "source": [
    "### 4.2 Highlight statements"
   ]
  },
  {
   "cell_type": "code",
   "execution_count": 20,
   "metadata": {},
   "outputs": [
    {
     "name": "stdout",
     "output_type": "stream",
     "text": [
      "Error, sentence not found\n",
      "Error, sentence not found\n",
      "Error, sentence not found\n"
     ]
    }
   ],
   "source": [
    "c = \"yellow\"\n",
    "highlight_pdf.highlight_text([], SAMPLE_PDF_PATH, \"statements.pdf\")\n",
    "\n",
    "passage_id_old = None\n",
    "segment_id_old = None\n",
    "\n",
    "for row in relevant_claims.iterrows():\n",
    "    passage_id = row[1][\"passage_id\"]\n",
    "    segment_id = row[1][\"segment_id\"]\n",
    "\n",
    "    if passage_id_old==passage_id and segment_id_old == segment_id:\n",
    "        continue\n",
    "    else:\n",
    "        sentences = doc_table[(doc_table[\"passage_id\"]==passage_id)&(doc_table[\"segment_id\"]==segment_id)][\"sentence\"].to_list()\n",
    "        highlight_pdf.highlight_text(sentences, \"statements.pdf\", \"statements.pdf\", color=c)\n",
    "        passage_id_old = passage_id\n",
    "        segment_id_old = segment_id\n",
    "\n",
    "        if c == \"yellow\":\n",
    "            c = \"red\"\n",
    "        else:\n",
    "            c = \"yellow\"\n",
    "        "
   ]
  },
  {
   "cell_type": "markdown",
   "metadata": {},
   "source": [
    "### 4.3 Highlight statements with claims"
   ]
  },
  {
   "cell_type": "code",
   "execution_count": 24,
   "metadata": {},
   "outputs": [
    {
     "name": "stdout",
     "output_type": "stream",
     "text": [
      "Error, sentence not found\n",
      "Error, sentence not found\n",
      "Error, sentence not found\n"
     ]
    }
   ],
   "source": [
    "c = \"yellow\"\n",
    "highlight_pdf.highlight_text([], SAMPLE_PDF_PATH, \"statements_claims.pdf\")\n",
    "\n",
    "passage_id_old = None\n",
    "segment_id_old = None\n",
    "\n",
    "for row in relevant_claims.iterrows():\n",
    "    passage_id = row[1][\"passage_id\"]\n",
    "    segment_id = row[1][\"segment_id\"]\n",
    "\n",
    "    if passage_id_old==passage_id and segment_id_old == segment_id:\n",
    "        continue\n",
    "    else:\n",
    "        sentences = doc_table[(doc_table[\"passage_id\"]==passage_id)&(doc_table[\"segment_id\"]==segment_id)][\"sentence\"].to_list()\n",
    "        highlight_pdf.highlight_text(sentences, \"statements_claims.pdf\", \"statements_claims.pdf\", color=c)\n",
    "        passage_id_old = passage_id\n",
    "        segment_id_old = segment_id\n",
    "\n",
    "        if c == \"yellow\":\n",
    "            c = \"red\"\n",
    "        else:\n",
    "            c = \"yellow\"\n",
    "        "
   ]
  },
  {
   "cell_type": "code",
   "execution_count": 25,
   "metadata": {},
   "outputs": [
    {
     "name": "stdout",
     "output_type": "stream",
     "text": [
      "Error, sentence not found\n",
      "Error, sentence not found\n"
     ]
    }
   ],
   "source": [
    "highlight_pdf.highlight_text(claim_sentences, \"statements_claims.pdf\", \"statements_claims.pdf\", color=\"green\")"
   ]
  }
 ],
 "metadata": {
  "interpreter": {
   "hash": "31f2aee4e71d21fbe5cf8b01ff0e069b9275f58929596ceb00d14d90e3e16cd6"
  },
  "kernelspec": {
   "display_name": "Python 3.8.9 64-bit",
   "language": "python",
   "name": "python3"
  },
  "language_info": {
   "codemirror_mode": {
    "name": "ipython",
    "version": 3
   },
   "file_extension": ".py",
   "mimetype": "text/x-python",
   "name": "python",
   "nbconvert_exporter": "python",
   "pygments_lexer": "ipython3",
   "version": "3.9.6"
  },
  "orig_nbformat": 4
 },
 "nbformat": 4,
 "nbformat_minor": 2
}
