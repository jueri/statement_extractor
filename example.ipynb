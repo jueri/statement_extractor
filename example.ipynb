{
 "cells": [
  {
   "cell_type": "markdown",
   "metadata": {},
   "source": [
    "# Statement Extractor\n",
    "> Statement extraction through claim detection\n",
    "\n",
    "This Notebook guides you through the *Statement Extractor* module."
   ]
  },
  {
   "cell_type": "code",
   "execution_count": 5,
   "metadata": {},
   "outputs": [],
   "source": [
    "from src.utils import pdf_parser\n",
    "from src import segmenter, detect_claims\n",
    "from config import SAMPLE_PDF_PATH, MODEL_NAME, MODEL_WEIGHTS_PATH\n",
    "\n",
    "import pandas as pd"
   ]
  },
  {
   "cell_type": "markdown",
   "metadata": {},
   "source": [
    "## 0. Load data"
   ]
  },
  {
   "cell_type": "code",
   "execution_count": 6,
   "metadata": {},
   "outputs": [],
   "source": [
    "text = pdf_parser.pdf_to_text(SAMPLE_PDF_PATH)  # load all text from pdf"
   ]
  },
  {
   "cell_type": "code",
   "execution_count": 7,
   "metadata": {},
   "outputs": [],
   "source": [
    "parse = pdf_parser.parse_text(text)  # parse pdf with specific document parser"
   ]
  },
  {
   "cell_type": "markdown",
   "metadata": {},
   "source": [
    "## 1. Create segments"
   ]
  },
  {
   "cell_type": "code",
   "execution_count": 8,
   "metadata": {},
   "outputs": [],
   "source": [
    "title = parse[\"title\"]\n",
    "date = parse[\"date\"]\n",
    "passages = parse[\"passages\"]  # this document has natural passages"
   ]
  },
  {
   "cell_type": "code",
   "execution_count": 9,
   "metadata": {},
   "outputs": [],
   "source": [
    "doc = []  # create empty doc"
   ]
  },
  {
   "cell_type": "code",
   "execution_count": 10,
   "metadata": {},
   "outputs": [],
   "source": [
    "passage_id = 0\n",
    "\n",
    "for passage in passages:\n",
    "    segments = segmenter.split_segments(passage.get(\"text\"))\n",
    "    \n",
    "    for segment in segments:\n",
    "        segment[\"passage_id\"] = passage_id\n",
    "        doc.append(segment)\n",
    "    \n",
    "    passage_id += 1"
   ]
  },
  {
   "cell_type": "markdown",
   "metadata": {},
   "source": [
    "### 1.1 Load to table"
   ]
  },
  {
   "cell_type": "code",
   "execution_count": 11,
   "metadata": {},
   "outputs": [],
   "source": [
    "doc_table = pd.DataFrame(doc)"
   ]
  },
  {
   "cell_type": "code",
   "execution_count": 12,
   "metadata": {},
   "outputs": [
    {
     "data": {
      "text/html": [
       "<div>\n",
       "<style scoped>\n",
       "    .dataframe tbody tr th:only-of-type {\n",
       "        vertical-align: middle;\n",
       "    }\n",
       "\n",
       "    .dataframe tbody tr th {\n",
       "        vertical-align: top;\n",
       "    }\n",
       "\n",
       "    .dataframe thead th {\n",
       "        text-align: right;\n",
       "    }\n",
       "</style>\n",
       "<table border=\"1\" class=\"dataframe\">\n",
       "  <thead>\n",
       "    <tr style=\"text-align: right;\">\n",
       "      <th></th>\n",
       "      <th>segment_id</th>\n",
       "      <th>sentence</th>\n",
       "      <th>passage_id</th>\n",
       "    </tr>\n",
       "  </thead>\n",
       "  <tbody>\n",
       "    <tr>\n",
       "      <th>0</th>\n",
       "      <td>0</td>\n",
       "      <td>Guten Mittag liebe Journalistinnen und Journal...</td>\n",
       "      <td>0</td>\n",
       "    </tr>\n",
       "    <tr>\n",
       "      <th>1</th>\n",
       "      <td>1</td>\n",
       "      <td>Herzlich willkommen hier zu unserem virtuellen...</td>\n",
       "      <td>0</td>\n",
       "    </tr>\n",
       "    <tr>\n",
       "      <th>2</th>\n",
       "      <td>2</td>\n",
       "      <td>Mein Name ist Bastian Zimmermann, und ich bin ...</td>\n",
       "      <td>0</td>\n",
       "    </tr>\n",
       "    <tr>\n",
       "      <th>3</th>\n",
       "      <td>3</td>\n",
       "      <td>Ich freue mich, heute auch unsere drei Experte...</td>\n",
       "      <td>0</td>\n",
       "    </tr>\n",
       "    <tr>\n",
       "      <th>4</th>\n",
       "      <td>0</td>\n",
       "      <td>Man hört immer wieder, wie wichtig Quantentech...</td>\n",
       "      <td>0</td>\n",
       "    </tr>\n",
       "  </tbody>\n",
       "</table>\n",
       "</div>"
      ],
      "text/plain": [
       "   segment_id                                           sentence  passage_id\n",
       "0           0  Guten Mittag liebe Journalistinnen und Journal...           0\n",
       "1           1  Herzlich willkommen hier zu unserem virtuellen...           0\n",
       "2           2  Mein Name ist Bastian Zimmermann, und ich bin ...           0\n",
       "3           3  Ich freue mich, heute auch unsere drei Experte...           0\n",
       "4           0  Man hört immer wieder, wie wichtig Quantentech...           0"
      ]
     },
     "execution_count": 12,
     "metadata": {},
     "output_type": "execute_result"
    }
   ],
   "source": [
    "doc_table.head()"
   ]
  },
  {
   "cell_type": "markdown",
   "metadata": {},
   "source": [
    "### 1.2 Add Metadata"
   ]
  },
  {
   "cell_type": "code",
   "execution_count": 13,
   "metadata": {},
   "outputs": [],
   "source": [
    "doc_table[\"title\"] = title\n",
    "doc_table[\"date\"] = date"
   ]
  },
  {
   "cell_type": "code",
   "execution_count": 14,
   "metadata": {},
   "outputs": [
    {
     "name": "stderr",
     "output_type": "stream",
     "text": [
      "/root/.local/lib/python3.9/site-packages/pandas/core/indexing.py:1732: SettingWithCopyWarning: \n",
      "A value is trying to be set on a copy of a slice from a DataFrame\n",
      "\n",
      "See the caveats in the documentation: https://pandas.pydata.org/pandas-docs/stable/user_guide/indexing.html#returning-a-view-versus-a-copy\n",
      "  self._setitem_single_block(indexer, value, name)\n",
      "\n"
     ]
    }
   ],
   "source": [
    "doc_table[\"speaker\"] = None\n",
    "doc_table[\"timestamp\"] = None\n",
    "\n",
    "for idx, passage in enumerate(passages):\n",
    "    speaker = passage.get(\"speaker\")\n",
    "    timestamp = passage.get(\"timestamp\")\n",
    "    \n",
    "    doc_table['speaker'].loc[doc_table['passage_id'] == idx] = speaker\n",
    "    doc_table['timestamp'].loc[doc_table['passage_id'] == idx] = timestamp\n"
   ]
  },
  {
   "cell_type": "code",
   "execution_count": 15,
   "metadata": {},
   "outputs": [
    {
     "data": {
      "text/html": [
       "<div>\n",
       "<style scoped>\n",
       "    .dataframe tbody tr th:only-of-type {\n",
       "        vertical-align: middle;\n",
       "    }\n",
       "\n",
       "    .dataframe tbody tr th {\n",
       "        vertical-align: top;\n",
       "    }\n",
       "\n",
       "    .dataframe thead th {\n",
       "        text-align: right;\n",
       "    }\n",
       "</style>\n",
       "<table border=\"1\" class=\"dataframe\">\n",
       "  <thead>\n",
       "    <tr style=\"text-align: right;\">\n",
       "      <th></th>\n",
       "      <th>segment_id</th>\n",
       "      <th>sentence</th>\n",
       "      <th>passage_id</th>\n",
       "      <th>title</th>\n",
       "      <th>date</th>\n",
       "      <th>speaker</th>\n",
       "      <th>timestamp</th>\n",
       "    </tr>\n",
       "  </thead>\n",
       "  <tbody>\n",
       "    <tr>\n",
       "      <th>0</th>\n",
       "      <td>0</td>\n",
       "      <td>Guten Mittag liebe Journalistinnen und Journal...</td>\n",
       "      <td>0</td>\n",
       "      <td>„Steht der Quantenrechner vor der Tür? Forschu...</td>\n",
       "      <td>12.04.2021</td>\n",
       "      <td>Moderator</td>\n",
       "      <td>[00:00:00]</td>\n",
       "    </tr>\n",
       "    <tr>\n",
       "      <th>1</th>\n",
       "      <td>1</td>\n",
       "      <td>Herzlich willkommen hier zu unserem virtuellen...</td>\n",
       "      <td>0</td>\n",
       "      <td>„Steht der Quantenrechner vor der Tür? Forschu...</td>\n",
       "      <td>12.04.2021</td>\n",
       "      <td>Moderator</td>\n",
       "      <td>[00:00:00]</td>\n",
       "    </tr>\n",
       "    <tr>\n",
       "      <th>2</th>\n",
       "      <td>2</td>\n",
       "      <td>Mein Name ist Bastian Zimmermann, und ich bin ...</td>\n",
       "      <td>0</td>\n",
       "      <td>„Steht der Quantenrechner vor der Tür? Forschu...</td>\n",
       "      <td>12.04.2021</td>\n",
       "      <td>Moderator</td>\n",
       "      <td>[00:00:00]</td>\n",
       "    </tr>\n",
       "    <tr>\n",
       "      <th>3</th>\n",
       "      <td>3</td>\n",
       "      <td>Ich freue mich, heute auch unsere drei Experte...</td>\n",
       "      <td>0</td>\n",
       "      <td>„Steht der Quantenrechner vor der Tür? Forschu...</td>\n",
       "      <td>12.04.2021</td>\n",
       "      <td>Moderator</td>\n",
       "      <td>[00:00:00]</td>\n",
       "    </tr>\n",
       "    <tr>\n",
       "      <th>4</th>\n",
       "      <td>0</td>\n",
       "      <td>Man hört immer wieder, wie wichtig Quantentech...</td>\n",
       "      <td>0</td>\n",
       "      <td>„Steht der Quantenrechner vor der Tür? Forschu...</td>\n",
       "      <td>12.04.2021</td>\n",
       "      <td>Moderator</td>\n",
       "      <td>[00:00:00]</td>\n",
       "    </tr>\n",
       "  </tbody>\n",
       "</table>\n",
       "</div>"
      ],
      "text/plain": [
       "   segment_id                                           sentence  passage_id  \\\n",
       "0           0  Guten Mittag liebe Journalistinnen und Journal...           0   \n",
       "1           1  Herzlich willkommen hier zu unserem virtuellen...           0   \n",
       "2           2  Mein Name ist Bastian Zimmermann, und ich bin ...           0   \n",
       "3           3  Ich freue mich, heute auch unsere drei Experte...           0   \n",
       "4           0  Man hört immer wieder, wie wichtig Quantentech...           0   \n",
       "\n",
       "                                               title        date    speaker  \\\n",
       "0  „Steht der Quantenrechner vor der Tür? Forschu...  12.04.2021  Moderator   \n",
       "1  „Steht der Quantenrechner vor der Tür? Forschu...  12.04.2021  Moderator   \n",
       "2  „Steht der Quantenrechner vor der Tür? Forschu...  12.04.2021  Moderator   \n",
       "3  „Steht der Quantenrechner vor der Tür? Forschu...  12.04.2021  Moderator   \n",
       "4  „Steht der Quantenrechner vor der Tür? Forschu...  12.04.2021  Moderator   \n",
       "\n",
       "    timestamp  \n",
       "0  [00:00:00]  \n",
       "1  [00:00:00]  \n",
       "2  [00:00:00]  \n",
       "3  [00:00:00]  \n",
       "4  [00:00:00]  "
      ]
     },
     "execution_count": 15,
     "metadata": {},
     "output_type": "execute_result"
    }
   ],
   "source": [
    "doc_table.head()"
   ]
  },
  {
   "cell_type": "markdown",
   "metadata": {},
   "source": [
    "## 2. (Detect main concept)"
   ]
  },
  {
   "cell_type": "code",
   "execution_count": null,
   "metadata": {},
   "outputs": [],
   "source": []
  },
  {
   "cell_type": "markdown",
   "metadata": {},
   "source": [
    "## 3. Detect claim sentences"
   ]
  },
  {
   "cell_type": "code",
   "execution_count": 16,
   "metadata": {},
   "outputs": [
    {
     "name": "stderr",
     "output_type": "stream",
     "text": [
      "The tokenizer class you load from this checkpoint is not the same type as the class this function is called from. It may result in unexpected tokenization. \n",
      "The tokenizer class you load from this checkpoint is 'BertTokenizer'. \n",
      "The class this function is called from is 'DistilBertTokenizer'.\n",
      "2021-12-28 13:04:35.993834: W tensorflow/stream_executor/platform/default/dso_loader.cc:64] Could not load dynamic library 'libcuda.so.1'; dlerror: libcuda.so.1: cannot open shared object file: No such file or directory\n",
      "2021-12-28 13:04:35.993889: W tensorflow/stream_executor/cuda/cuda_driver.cc:269] failed call to cuInit: UNKNOWN ERROR (303)\n",
      "2021-12-28 13:04:35.993919: I tensorflow/stream_executor/cuda/cuda_diagnostics.cc:156] kernel driver does not appear to be running on this host (4aeed0470a36): /proc/driver/nvidia/version does not exist\n",
      "2021-12-28 13:04:35.994686: I tensorflow/core/platform/cpu_feature_guard.cc:151] This TensorFlow binary is optimized with oneAPI Deep Neural Network Library (oneDNN) to use the following CPU instructions in performance-critical operations:  AVX2 FMA\n",
      "To enable them in other operations, rebuild TensorFlow with the appropriate compiler flags.\n",
      "2021-12-28 13:04:36.038439: W tensorflow/python/util/util.cc:368] Sets are not currently considered sequences, but this may change in the future, so consider avoiding using them.\n",
      "Some layers from the model checkpoint at deepset/gbert-base were not used when initializing TFDistilBertForSequenceClassification: ['nsp___cls', 'bert', 'mlm___cls']\n",
      "- This IS expected if you are initializing TFDistilBertForSequenceClassification from the checkpoint of a model trained on another task or with another architecture (e.g. initializing a BertForSequenceClassification model from a BertForPreTraining model).\n",
      "- This IS NOT expected if you are initializing TFDistilBertForSequenceClassification from the checkpoint of a model that you expect to be exactly identical (initializing a BertForSequenceClassification model from a BertForSequenceClassification model).\n",
      "Some layers of TFDistilBertForSequenceClassification were not initialized from the model checkpoint at deepset/gbert-base and are newly initialized: ['pre_classifier', 'dropout_37', 'distilbert', 'classifier']\n",
      "You should probably TRAIN this model on a down-stream task to be able to use it for predictions and inference.\n"
     ]
    }
   ],
   "source": [
    "detector = detect_claims.claim_detector(MODEL_NAME, MODEL_WEIGHTS_PATH)"
   ]
  },
  {
   "cell_type": "code",
   "execution_count": 17,
   "metadata": {},
   "outputs": [],
   "source": [
    "doc_table[\"claim\"] = doc_table.apply(lambda x: detector.is_claim(x[\"sentence\"]), axis=1)"
   ]
  },
  {
   "cell_type": "code",
   "execution_count": 18,
   "metadata": {},
   "outputs": [
    {
     "data": {
      "text/html": [
       "<div>\n",
       "<style scoped>\n",
       "    .dataframe tbody tr th:only-of-type {\n",
       "        vertical-align: middle;\n",
       "    }\n",
       "\n",
       "    .dataframe tbody tr th {\n",
       "        vertical-align: top;\n",
       "    }\n",
       "\n",
       "    .dataframe thead th {\n",
       "        text-align: right;\n",
       "    }\n",
       "</style>\n",
       "<table border=\"1\" class=\"dataframe\">\n",
       "  <thead>\n",
       "    <tr style=\"text-align: right;\">\n",
       "      <th></th>\n",
       "      <th>segment_id</th>\n",
       "      <th>sentence</th>\n",
       "      <th>passage_id</th>\n",
       "      <th>title</th>\n",
       "      <th>date</th>\n",
       "      <th>speaker</th>\n",
       "      <th>timestamp</th>\n",
       "      <th>claim</th>\n",
       "    </tr>\n",
       "  </thead>\n",
       "  <tbody>\n",
       "    <tr>\n",
       "      <th>0</th>\n",
       "      <td>0</td>\n",
       "      <td>Guten Mittag liebe Journalistinnen und Journal...</td>\n",
       "      <td>0</td>\n",
       "      <td>„Steht der Quantenrechner vor der Tür? Forschu...</td>\n",
       "      <td>12.04.2021</td>\n",
       "      <td>Moderator</td>\n",
       "      <td>[00:00:00]</td>\n",
       "      <td>False</td>\n",
       "    </tr>\n",
       "    <tr>\n",
       "      <th>1</th>\n",
       "      <td>1</td>\n",
       "      <td>Herzlich willkommen hier zu unserem virtuellen...</td>\n",
       "      <td>0</td>\n",
       "      <td>„Steht der Quantenrechner vor der Tür? Forschu...</td>\n",
       "      <td>12.04.2021</td>\n",
       "      <td>Moderator</td>\n",
       "      <td>[00:00:00]</td>\n",
       "      <td>False</td>\n",
       "    </tr>\n",
       "    <tr>\n",
       "      <th>2</th>\n",
       "      <td>2</td>\n",
       "      <td>Mein Name ist Bastian Zimmermann, und ich bin ...</td>\n",
       "      <td>0</td>\n",
       "      <td>„Steht der Quantenrechner vor der Tür? Forschu...</td>\n",
       "      <td>12.04.2021</td>\n",
       "      <td>Moderator</td>\n",
       "      <td>[00:00:00]</td>\n",
       "      <td>False</td>\n",
       "    </tr>\n",
       "    <tr>\n",
       "      <th>3</th>\n",
       "      <td>3</td>\n",
       "      <td>Ich freue mich, heute auch unsere drei Experte...</td>\n",
       "      <td>0</td>\n",
       "      <td>„Steht der Quantenrechner vor der Tür? Forschu...</td>\n",
       "      <td>12.04.2021</td>\n",
       "      <td>Moderator</td>\n",
       "      <td>[00:00:00]</td>\n",
       "      <td>False</td>\n",
       "    </tr>\n",
       "    <tr>\n",
       "      <th>4</th>\n",
       "      <td>0</td>\n",
       "      <td>Man hört immer wieder, wie wichtig Quantentech...</td>\n",
       "      <td>0</td>\n",
       "      <td>„Steht der Quantenrechner vor der Tür? Forschu...</td>\n",
       "      <td>12.04.2021</td>\n",
       "      <td>Moderator</td>\n",
       "      <td>[00:00:00]</td>\n",
       "      <td>False</td>\n",
       "    </tr>\n",
       "  </tbody>\n",
       "</table>\n",
       "</div>"
      ],
      "text/plain": [
       "   segment_id                                           sentence  passage_id  \\\n",
       "0           0  Guten Mittag liebe Journalistinnen und Journal...           0   \n",
       "1           1  Herzlich willkommen hier zu unserem virtuellen...           0   \n",
       "2           2  Mein Name ist Bastian Zimmermann, und ich bin ...           0   \n",
       "3           3  Ich freue mich, heute auch unsere drei Experte...           0   \n",
       "4           0  Man hört immer wieder, wie wichtig Quantentech...           0   \n",
       "\n",
       "                                               title        date    speaker  \\\n",
       "0  „Steht der Quantenrechner vor der Tür? Forschu...  12.04.2021  Moderator   \n",
       "1  „Steht der Quantenrechner vor der Tür? Forschu...  12.04.2021  Moderator   \n",
       "2  „Steht der Quantenrechner vor der Tür? Forschu...  12.04.2021  Moderator   \n",
       "3  „Steht der Quantenrechner vor der Tür? Forschu...  12.04.2021  Moderator   \n",
       "4  „Steht der Quantenrechner vor der Tür? Forschu...  12.04.2021  Moderator   \n",
       "\n",
       "    timestamp  claim  \n",
       "0  [00:00:00]  False  \n",
       "1  [00:00:00]  False  \n",
       "2  [00:00:00]  False  \n",
       "3  [00:00:00]  False  \n",
       "4  [00:00:00]  False  "
      ]
     },
     "execution_count": 18,
     "metadata": {},
     "output_type": "execute_result"
    }
   ],
   "source": [
    "doc_table.head()"
   ]
  },
  {
   "cell_type": "markdown",
   "metadata": {},
   "source": [
    "## 4. Return statements"
   ]
  },
  {
   "cell_type": "code",
   "execution_count": 35,
   "metadata": {},
   "outputs": [],
   "source": [
    "statement_ids = doc_table[(doc_table[\"claim\"]==True) & (doc_table[\"speaker\"]!=\"Moderator\")][\"segment_id\"].unique()"
   ]
  },
  {
   "cell_type": "code",
   "execution_count": 30,
   "metadata": {},
   "outputs": [
    {
     "data": {
      "text/plain": [
       "1"
      ]
     },
     "execution_count": 30,
     "metadata": {},
     "output_type": "execute_result"
    }
   ],
   "source": [
    "statement_ids[0]"
   ]
  },
  {
   "cell_type": "code",
   "execution_count": null,
   "metadata": {},
   "outputs": [],
   "source": [
    "doc_table"
   ]
  },
  {
   "cell_type": "code",
   "execution_count": 42,
   "metadata": {},
   "outputs": [],
   "source": [
    "claim_sentences = doc_table[(doc_table[\"claim\"]==True) & (doc_table[\"speaker\"]!=\"Moderator\")]"
   ]
  },
  {
   "cell_type": "code",
   "execution_count": 1,
   "metadata": {},
   "outputs": [],
   "source": [
    "import fitz"
   ]
  },
  {
   "cell_type": "code",
   "execution_count": 66,
   "metadata": {},
   "outputs": [],
   "source": [
    "pdf = fitz.open(SAMPLE_PDF_PATH)"
   ]
  },
  {
   "cell_type": "code",
   "execution_count": 67,
   "metadata": {},
   "outputs": [
    {
     "name": "stdout",
     "output_type": "stream",
     "text": [
      "Error, sentence not found\n",
      "Error, sentence not found\n"
     ]
    }
   ],
   "source": [
    "for claim_sentence in claim_sentences[\"sentence\"].to_list():\n",
    "    text_instances = []\n",
    "    for page in pdf:\n",
    "        instances = page.search_for(claim_sentence)\n",
    "        text_instances+=instances\n",
    "                \n",
    "        for inst in instances:\n",
    "            highlight = page.add_highlight_annot(inst)\n",
    "            highlight.update()\n",
    "    if not text_instances:\n",
    "        print(\"Error, sentence not found\")"
   ]
  },
  {
   "cell_type": "code",
   "execution_count": 68,
   "metadata": {},
   "outputs": [],
   "source": [
    "pdf.save(\"output.pdf\", garbage=4, deflate=True, clean=True)"
   ]
  }
 ],
 "metadata": {
  "interpreter": {
   "hash": "31f2aee4e71d21fbe5cf8b01ff0e069b9275f58929596ceb00d14d90e3e16cd6"
  },
  "kernelspec": {
   "display_name": "Python 3.8.9 64-bit",
   "language": "python",
   "name": "python3"
  },
  "language_info": {
   "codemirror_mode": {
    "name": "ipython",
    "version": 3
   },
   "file_extension": ".py",
   "mimetype": "text/x-python",
   "name": "python",
   "nbconvert_exporter": "python",
   "pygments_lexer": "ipython3",
   "version": "3.9.6"
  },
  "orig_nbformat": 4
 },
 "nbformat": 4,
 "nbformat_minor": 2
}
